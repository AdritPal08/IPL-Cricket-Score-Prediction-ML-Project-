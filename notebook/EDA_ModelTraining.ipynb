{
 "cells": [
  {
   "cell_type": "markdown",
   "id": "32ea157e",
   "metadata": {
    "papermill": {
     "duration": 0.020198,
     "end_time": "2023-05-03T18:05:03.746790",
     "exception": false,
     "start_time": "2023-05-03T18:05:03.726592",
     "status": "completed"
    },
    "tags": []
   },
   "source": [
    "<h1 style=\"font-family:verdana;\"> <center>💠 EDA||Data Visualization||ML Model - IPL Cricket</center> </h1>\n",
    "<p><center style=\"color:#159364; font-family:cursive; font-size:20px;\">Thanks for visiting my notebook </center></p>\n",
    "\n",
    "***\n",
    "\n",
    "<center><img src='https://media2.giphy.com/media/LkwOlsrAxH11Y2cdOX/200w.webp?cid=ecf05e47y19ommgd9ib0vellavsa7sxf9j8tiegv65qjqbiy&rid=200w.webp&ct=s' \n",
    "     height=30px width=160px /></center>\n",
    "     \n",
    "<div class=\"alert alert-block alert-info\" style=\"font-size:14px; font-family:verdana;\">\n",
    "📌 Please feel free to fork or edit the notebook for your convenience. If you enjoyed the notebook, kindly consider upvoting it as it helps others discover it too.Your support inspires me to continue working on similar projects.Thank you!.😊\n",
    "</div>    \n",
    " \n",
    "\n",
    "<div style=\"color:white;display:fill;border-radius:8px;\n",
    "            background-color:#0E1585;font-size:150%;\n",
    "            font-family:Nexa;letter-spacing:0.5px\">\n",
    "    <p style=\"padding: 8px;color:white;\"><b>📋Table of Contents</b></p>\n",
    "</div>\n",
    " \n",
    "* [Data Collection and Import Required Packages](#section-1)\n",
    "* [Exploratory Data Analysis (EDA)](#section-2)\n",
    "* [Model Training](#section-3)\n",
    "* [Dashboard](#section-4)"
   ]
  },
  {
   "cell_type": "markdown",
   "id": "7347724d",
   "metadata": {
    "papermill": {
     "duration": 0.01816,
     "end_time": "2023-05-03T18:05:03.785368",
     "exception": false,
     "start_time": "2023-05-03T18:05:03.767208",
     "status": "completed"
    },
    "tags": []
   },
   "source": [
    "<a id=\"section-1\"></a>\n",
    "\n",
    "<div style=\"color:white;display:fill;border-radius:8px;\n",
    "            background-color:#0E1585;font-size:150%;\n",
    "            font-family:Nexa;letter-spacing:0.5px\">\n",
    "    <p style=\"padding: 8px;color:white;\"><b>1.0 | Data Collection and Import Required Packages </b></p>\n",
    "</div>"
   ]
  },
  {
   "cell_type": "code",
   "execution_count": 1,
   "id": "5d380685",
   "metadata": {
    "_cell_guid": "b1076dfc-b9ad-4769-8c92-a6c4dae69d19",
    "_uuid": "8f2839f25d086af736a60e9eeb907d3b93b6e0e5",
    "execution": {
     "iopub.execute_input": "2023-05-03T18:05:03.825471Z",
     "iopub.status.busy": "2023-05-03T18:05:03.824348Z",
     "iopub.status.idle": "2023-05-03T18:05:05.738023Z",
     "shell.execute_reply": "2023-05-03T18:05:05.736714Z"
    },
    "papermill": {
     "duration": 1.937166,
     "end_time": "2023-05-03T18:05:05.741022",
     "exception": false,
     "start_time": "2023-05-03T18:05:03.803856",
     "status": "completed"
    },
    "tags": []
   },
   "outputs": [],
   "source": [
    "# Basic Import\n",
    "import pandas as pd\n",
    "import numpy as np\n",
    "import seaborn as sns\n",
    "import matplotlib.pyplot as plt\n",
    "%matplotlib inline\n",
    "import os\n",
    "from datetime import datetime\n",
    "import time\n",
    "\n",
    "# Modelling\n",
    "from sklearn.preprocessing import OneHotEncoder, StandardScaler\n",
    "from sklearn.compose import ColumnTransformer\n",
    "from sklearn.model_selection import train_test_split\n",
    "from sklearn.linear_model import LinearRegression, Ridge, Lasso\n",
    "from sklearn.tree import DecisionTreeRegressor\n",
    "from sklearn.ensemble import RandomForestRegressor, AdaBoostRegressor, GradientBoostingRegressor\n",
    "from sklearn.model_selection import GridSearchCV, RandomizedSearchCV\n",
    "from sklearn.metrics import r2_score, mean_absolute_error, mean_squared_error\n",
    "import pickle\n",
    "import json"
   ]
  },
  {
   "cell_type": "code",
   "execution_count": 2,
   "id": "9a01431c",
   "metadata": {
    "execution": {
     "iopub.execute_input": "2023-05-03T18:05:05.780619Z",
     "iopub.status.busy": "2023-05-03T18:05:05.779876Z",
     "iopub.status.idle": "2023-05-03T18:05:05.789399Z",
     "shell.execute_reply": "2023-05-03T18:05:05.788409Z"
    },
    "papermill": {
     "duration": 0.032174,
     "end_time": "2023-05-03T18:05:05.791857",
     "exception": false,
     "start_time": "2023-05-03T18:05:05.759683",
     "status": "completed"
    },
    "tags": []
   },
   "outputs": [
    {
     "name": "stdout",
     "output_type": "stream",
     "text": [
      "/kaggle/input/ipl-complete-dataset-2008-2022/ipl_match_info_data.csv\n",
      "/kaggle/input/ipl-complete-dataset-2008-2022/ipl_match_ball_by_ball_data.csv\n"
     ]
    }
   ],
   "source": [
    "for dirname, _, filenames in os.walk('/kaggle/input'):\n",
    "    for filename in filenames:\n",
    "        print(os.path.join(dirname, filename))\n"
   ]
  },
  {
   "cell_type": "code",
   "execution_count": 3,
   "id": "d0ef9da9",
   "metadata": {
    "execution": {
     "iopub.execute_input": "2023-05-03T18:05:05.831868Z",
     "iopub.status.busy": "2023-05-03T18:05:05.831023Z",
     "iopub.status.idle": "2023-05-03T18:05:06.948341Z",
     "shell.execute_reply": "2023-05-03T18:05:06.947011Z"
    },
    "papermill": {
     "duration": 1.140381,
     "end_time": "2023-05-03T18:05:06.951339",
     "exception": false,
     "start_time": "2023-05-03T18:05:05.810958",
     "status": "completed"
    },
    "tags": []
   },
   "outputs": [
    {
     "name": "stdout",
     "output_type": "stream",
     "text": [
      "-------- Match Dataset --------\n",
      "\n",
      "Data Shape is : (225954, 22)\n",
      "\n",
      "Show Top 10 Records\n"
     ]
    },
    {
     "data": {
      "text/html": [
       "<div>\n",
       "<style scoped>\n",
       "    .dataframe tbody tr th:only-of-type {\n",
       "        vertical-align: middle;\n",
       "    }\n",
       "\n",
       "    .dataframe tbody tr th {\n",
       "        vertical-align: top;\n",
       "    }\n",
       "\n",
       "    .dataframe thead th {\n",
       "        text-align: right;\n",
       "    }\n",
       "</style>\n",
       "<table border=\"1\" class=\"dataframe\">\n",
       "  <thead>\n",
       "    <tr style=\"text-align: right;\">\n",
       "      <th></th>\n",
       "      <th>match_id</th>\n",
       "      <th>season</th>\n",
       "      <th>start_date</th>\n",
       "      <th>venue</th>\n",
       "      <th>innings</th>\n",
       "      <th>ball</th>\n",
       "      <th>batting_team</th>\n",
       "      <th>bowling_team</th>\n",
       "      <th>striker</th>\n",
       "      <th>non_striker</th>\n",
       "      <th>...</th>\n",
       "      <th>extras</th>\n",
       "      <th>wides</th>\n",
       "      <th>noballs</th>\n",
       "      <th>byes</th>\n",
       "      <th>legbyes</th>\n",
       "      <th>penalty</th>\n",
       "      <th>wicket_type</th>\n",
       "      <th>player_dismissed</th>\n",
       "      <th>other_wicket_type</th>\n",
       "      <th>other_player_dismissed</th>\n",
       "    </tr>\n",
       "  </thead>\n",
       "  <tbody>\n",
       "    <tr>\n",
       "      <th>0</th>\n",
       "      <td>335982</td>\n",
       "      <td>2007/08</td>\n",
       "      <td>2008-04-18</td>\n",
       "      <td>M Chinnaswamy Stadium</td>\n",
       "      <td>1</td>\n",
       "      <td>0.1</td>\n",
       "      <td>Kolkata Knight Riders</td>\n",
       "      <td>Royal Challengers Bangalore</td>\n",
       "      <td>SC Ganguly</td>\n",
       "      <td>BB McCullum</td>\n",
       "      <td>...</td>\n",
       "      <td>1</td>\n",
       "      <td>NaN</td>\n",
       "      <td>NaN</td>\n",
       "      <td>NaN</td>\n",
       "      <td>1.0</td>\n",
       "      <td>NaN</td>\n",
       "      <td>NaN</td>\n",
       "      <td>NaN</td>\n",
       "      <td>NaN</td>\n",
       "      <td>NaN</td>\n",
       "    </tr>\n",
       "    <tr>\n",
       "      <th>1</th>\n",
       "      <td>335982</td>\n",
       "      <td>2007/08</td>\n",
       "      <td>2008-04-18</td>\n",
       "      <td>M Chinnaswamy Stadium</td>\n",
       "      <td>1</td>\n",
       "      <td>0.2</td>\n",
       "      <td>Kolkata Knight Riders</td>\n",
       "      <td>Royal Challengers Bangalore</td>\n",
       "      <td>BB McCullum</td>\n",
       "      <td>SC Ganguly</td>\n",
       "      <td>...</td>\n",
       "      <td>0</td>\n",
       "      <td>NaN</td>\n",
       "      <td>NaN</td>\n",
       "      <td>NaN</td>\n",
       "      <td>NaN</td>\n",
       "      <td>NaN</td>\n",
       "      <td>NaN</td>\n",
       "      <td>NaN</td>\n",
       "      <td>NaN</td>\n",
       "      <td>NaN</td>\n",
       "    </tr>\n",
       "    <tr>\n",
       "      <th>2</th>\n",
       "      <td>335982</td>\n",
       "      <td>2007/08</td>\n",
       "      <td>2008-04-18</td>\n",
       "      <td>M Chinnaswamy Stadium</td>\n",
       "      <td>1</td>\n",
       "      <td>0.3</td>\n",
       "      <td>Kolkata Knight Riders</td>\n",
       "      <td>Royal Challengers Bangalore</td>\n",
       "      <td>BB McCullum</td>\n",
       "      <td>SC Ganguly</td>\n",
       "      <td>...</td>\n",
       "      <td>1</td>\n",
       "      <td>1.0</td>\n",
       "      <td>NaN</td>\n",
       "      <td>NaN</td>\n",
       "      <td>NaN</td>\n",
       "      <td>NaN</td>\n",
       "      <td>NaN</td>\n",
       "      <td>NaN</td>\n",
       "      <td>NaN</td>\n",
       "      <td>NaN</td>\n",
       "    </tr>\n",
       "    <tr>\n",
       "      <th>3</th>\n",
       "      <td>335982</td>\n",
       "      <td>2007/08</td>\n",
       "      <td>2008-04-18</td>\n",
       "      <td>M Chinnaswamy Stadium</td>\n",
       "      <td>1</td>\n",
       "      <td>0.4</td>\n",
       "      <td>Kolkata Knight Riders</td>\n",
       "      <td>Royal Challengers Bangalore</td>\n",
       "      <td>BB McCullum</td>\n",
       "      <td>SC Ganguly</td>\n",
       "      <td>...</td>\n",
       "      <td>0</td>\n",
       "      <td>NaN</td>\n",
       "      <td>NaN</td>\n",
       "      <td>NaN</td>\n",
       "      <td>NaN</td>\n",
       "      <td>NaN</td>\n",
       "      <td>NaN</td>\n",
       "      <td>NaN</td>\n",
       "      <td>NaN</td>\n",
       "      <td>NaN</td>\n",
       "    </tr>\n",
       "    <tr>\n",
       "      <th>4</th>\n",
       "      <td>335982</td>\n",
       "      <td>2007/08</td>\n",
       "      <td>2008-04-18</td>\n",
       "      <td>M Chinnaswamy Stadium</td>\n",
       "      <td>1</td>\n",
       "      <td>0.5</td>\n",
       "      <td>Kolkata Knight Riders</td>\n",
       "      <td>Royal Challengers Bangalore</td>\n",
       "      <td>BB McCullum</td>\n",
       "      <td>SC Ganguly</td>\n",
       "      <td>...</td>\n",
       "      <td>0</td>\n",
       "      <td>NaN</td>\n",
       "      <td>NaN</td>\n",
       "      <td>NaN</td>\n",
       "      <td>NaN</td>\n",
       "      <td>NaN</td>\n",
       "      <td>NaN</td>\n",
       "      <td>NaN</td>\n",
       "      <td>NaN</td>\n",
       "      <td>NaN</td>\n",
       "    </tr>\n",
       "    <tr>\n",
       "      <th>5</th>\n",
       "      <td>335982</td>\n",
       "      <td>2007/08</td>\n",
       "      <td>2008-04-18</td>\n",
       "      <td>M Chinnaswamy Stadium</td>\n",
       "      <td>1</td>\n",
       "      <td>0.6</td>\n",
       "      <td>Kolkata Knight Riders</td>\n",
       "      <td>Royal Challengers Bangalore</td>\n",
       "      <td>BB McCullum</td>\n",
       "      <td>SC Ganguly</td>\n",
       "      <td>...</td>\n",
       "      <td>0</td>\n",
       "      <td>NaN</td>\n",
       "      <td>NaN</td>\n",
       "      <td>NaN</td>\n",
       "      <td>NaN</td>\n",
       "      <td>NaN</td>\n",
       "      <td>NaN</td>\n",
       "      <td>NaN</td>\n",
       "      <td>NaN</td>\n",
       "      <td>NaN</td>\n",
       "    </tr>\n",
       "    <tr>\n",
       "      <th>6</th>\n",
       "      <td>335982</td>\n",
       "      <td>2007/08</td>\n",
       "      <td>2008-04-18</td>\n",
       "      <td>M Chinnaswamy Stadium</td>\n",
       "      <td>1</td>\n",
       "      <td>0.7</td>\n",
       "      <td>Kolkata Knight Riders</td>\n",
       "      <td>Royal Challengers Bangalore</td>\n",
       "      <td>BB McCullum</td>\n",
       "      <td>SC Ganguly</td>\n",
       "      <td>...</td>\n",
       "      <td>1</td>\n",
       "      <td>NaN</td>\n",
       "      <td>NaN</td>\n",
       "      <td>NaN</td>\n",
       "      <td>1.0</td>\n",
       "      <td>NaN</td>\n",
       "      <td>NaN</td>\n",
       "      <td>NaN</td>\n",
       "      <td>NaN</td>\n",
       "      <td>NaN</td>\n",
       "    </tr>\n",
       "    <tr>\n",
       "      <th>7</th>\n",
       "      <td>335982</td>\n",
       "      <td>2007/08</td>\n",
       "      <td>2008-04-18</td>\n",
       "      <td>M Chinnaswamy Stadium</td>\n",
       "      <td>1</td>\n",
       "      <td>1.1</td>\n",
       "      <td>Kolkata Knight Riders</td>\n",
       "      <td>Royal Challengers Bangalore</td>\n",
       "      <td>BB McCullum</td>\n",
       "      <td>SC Ganguly</td>\n",
       "      <td>...</td>\n",
       "      <td>0</td>\n",
       "      <td>NaN</td>\n",
       "      <td>NaN</td>\n",
       "      <td>NaN</td>\n",
       "      <td>NaN</td>\n",
       "      <td>NaN</td>\n",
       "      <td>NaN</td>\n",
       "      <td>NaN</td>\n",
       "      <td>NaN</td>\n",
       "      <td>NaN</td>\n",
       "    </tr>\n",
       "    <tr>\n",
       "      <th>8</th>\n",
       "      <td>335982</td>\n",
       "      <td>2007/08</td>\n",
       "      <td>2008-04-18</td>\n",
       "      <td>M Chinnaswamy Stadium</td>\n",
       "      <td>1</td>\n",
       "      <td>1.2</td>\n",
       "      <td>Kolkata Knight Riders</td>\n",
       "      <td>Royal Challengers Bangalore</td>\n",
       "      <td>BB McCullum</td>\n",
       "      <td>SC Ganguly</td>\n",
       "      <td>...</td>\n",
       "      <td>0</td>\n",
       "      <td>NaN</td>\n",
       "      <td>NaN</td>\n",
       "      <td>NaN</td>\n",
       "      <td>NaN</td>\n",
       "      <td>NaN</td>\n",
       "      <td>NaN</td>\n",
       "      <td>NaN</td>\n",
       "      <td>NaN</td>\n",
       "      <td>NaN</td>\n",
       "    </tr>\n",
       "    <tr>\n",
       "      <th>9</th>\n",
       "      <td>335982</td>\n",
       "      <td>2007/08</td>\n",
       "      <td>2008-04-18</td>\n",
       "      <td>M Chinnaswamy Stadium</td>\n",
       "      <td>1</td>\n",
       "      <td>1.3</td>\n",
       "      <td>Kolkata Knight Riders</td>\n",
       "      <td>Royal Challengers Bangalore</td>\n",
       "      <td>BB McCullum</td>\n",
       "      <td>SC Ganguly</td>\n",
       "      <td>...</td>\n",
       "      <td>0</td>\n",
       "      <td>NaN</td>\n",
       "      <td>NaN</td>\n",
       "      <td>NaN</td>\n",
       "      <td>NaN</td>\n",
       "      <td>NaN</td>\n",
       "      <td>NaN</td>\n",
       "      <td>NaN</td>\n",
       "      <td>NaN</td>\n",
       "      <td>NaN</td>\n",
       "    </tr>\n",
       "  </tbody>\n",
       "</table>\n",
       "<p>10 rows × 22 columns</p>\n",
       "</div>"
      ],
      "text/plain": [
       "   match_id   season  start_date                  venue  innings  ball  \\\n",
       "0    335982  2007/08  2008-04-18  M Chinnaswamy Stadium        1   0.1   \n",
       "1    335982  2007/08  2008-04-18  M Chinnaswamy Stadium        1   0.2   \n",
       "2    335982  2007/08  2008-04-18  M Chinnaswamy Stadium        1   0.3   \n",
       "3    335982  2007/08  2008-04-18  M Chinnaswamy Stadium        1   0.4   \n",
       "4    335982  2007/08  2008-04-18  M Chinnaswamy Stadium        1   0.5   \n",
       "5    335982  2007/08  2008-04-18  M Chinnaswamy Stadium        1   0.6   \n",
       "6    335982  2007/08  2008-04-18  M Chinnaswamy Stadium        1   0.7   \n",
       "7    335982  2007/08  2008-04-18  M Chinnaswamy Stadium        1   1.1   \n",
       "8    335982  2007/08  2008-04-18  M Chinnaswamy Stadium        1   1.2   \n",
       "9    335982  2007/08  2008-04-18  M Chinnaswamy Stadium        1   1.3   \n",
       "\n",
       "            batting_team                 bowling_team      striker  \\\n",
       "0  Kolkata Knight Riders  Royal Challengers Bangalore   SC Ganguly   \n",
       "1  Kolkata Knight Riders  Royal Challengers Bangalore  BB McCullum   \n",
       "2  Kolkata Knight Riders  Royal Challengers Bangalore  BB McCullum   \n",
       "3  Kolkata Knight Riders  Royal Challengers Bangalore  BB McCullum   \n",
       "4  Kolkata Knight Riders  Royal Challengers Bangalore  BB McCullum   \n",
       "5  Kolkata Knight Riders  Royal Challengers Bangalore  BB McCullum   \n",
       "6  Kolkata Knight Riders  Royal Challengers Bangalore  BB McCullum   \n",
       "7  Kolkata Knight Riders  Royal Challengers Bangalore  BB McCullum   \n",
       "8  Kolkata Knight Riders  Royal Challengers Bangalore  BB McCullum   \n",
       "9  Kolkata Knight Riders  Royal Challengers Bangalore  BB McCullum   \n",
       "\n",
       "   non_striker  ... extras  wides  noballs  byes  legbyes  penalty  \\\n",
       "0  BB McCullum  ...      1    NaN      NaN   NaN      1.0      NaN   \n",
       "1   SC Ganguly  ...      0    NaN      NaN   NaN      NaN      NaN   \n",
       "2   SC Ganguly  ...      1    1.0      NaN   NaN      NaN      NaN   \n",
       "3   SC Ganguly  ...      0    NaN      NaN   NaN      NaN      NaN   \n",
       "4   SC Ganguly  ...      0    NaN      NaN   NaN      NaN      NaN   \n",
       "5   SC Ganguly  ...      0    NaN      NaN   NaN      NaN      NaN   \n",
       "6   SC Ganguly  ...      1    NaN      NaN   NaN      1.0      NaN   \n",
       "7   SC Ganguly  ...      0    NaN      NaN   NaN      NaN      NaN   \n",
       "8   SC Ganguly  ...      0    NaN      NaN   NaN      NaN      NaN   \n",
       "9   SC Ganguly  ...      0    NaN      NaN   NaN      NaN      NaN   \n",
       "\n",
       "   wicket_type  player_dismissed other_wicket_type other_player_dismissed  \n",
       "0          NaN               NaN               NaN                    NaN  \n",
       "1          NaN               NaN               NaN                    NaN  \n",
       "2          NaN               NaN               NaN                    NaN  \n",
       "3          NaN               NaN               NaN                    NaN  \n",
       "4          NaN               NaN               NaN                    NaN  \n",
       "5          NaN               NaN               NaN                    NaN  \n",
       "6          NaN               NaN               NaN                    NaN  \n",
       "7          NaN               NaN               NaN                    NaN  \n",
       "8          NaN               NaN               NaN                    NaN  \n",
       "9          NaN               NaN               NaN                    NaN  \n",
       "\n",
       "[10 rows x 22 columns]"
      ]
     },
     "execution_count": 3,
     "metadata": {},
     "output_type": "execute_result"
    }
   ],
   "source": [
    "df = pd.read_csv('/kaggle/input/ipl-complete-dataset-2008-2022/ipl_match_ball_by_ball_data.csv',low_memory=False)\n",
    "print(\"-------- Match Dataset --------\")\n",
    "print(\"\\nData Shape is :\",df.shape)\n",
    "print(\"\\nShow Top 10 Records\")\n",
    "df.head(10)"
   ]
  },
  {
   "cell_type": "code",
   "execution_count": 4,
   "id": "a4d8ec17",
   "metadata": {
    "execution": {
     "iopub.execute_input": "2023-05-03T18:05:06.992159Z",
     "iopub.status.busy": "2023-05-03T18:05:06.991709Z",
     "iopub.status.idle": "2023-05-03T18:05:07.034931Z",
     "shell.execute_reply": "2023-05-03T18:05:07.033702Z"
    },
    "papermill": {
     "duration": 0.06684,
     "end_time": "2023-05-03T18:05:07.037850",
     "exception": false,
     "start_time": "2023-05-03T18:05:06.971010",
     "status": "completed"
    },
    "tags": []
   },
   "outputs": [
    {
     "name": "stdout",
     "output_type": "stream",
     "text": [
      "-------- Match info --------\n",
      "\n",
      "Data Shape is : (950, 27)\n",
      "\n",
      "Show Top 10 Records\n"
     ]
    },
    {
     "data": {
      "text/html": [
       "<div>\n",
       "<style scoped>\n",
       "    .dataframe tbody tr th:only-of-type {\n",
       "        vertical-align: middle;\n",
       "    }\n",
       "\n",
       "    .dataframe tbody tr th {\n",
       "        vertical-align: top;\n",
       "    }\n",
       "\n",
       "    .dataframe thead th {\n",
       "        text-align: right;\n",
       "    }\n",
       "</style>\n",
       "<table border=\"1\" class=\"dataframe\">\n",
       "  <thead>\n",
       "    <tr style=\"text-align: right;\">\n",
       "      <th></th>\n",
       "      <th>match_id</th>\n",
       "      <th>season</th>\n",
       "      <th>date</th>\n",
       "      <th>city</th>\n",
       "      <th>venue</th>\n",
       "      <th>team1</th>\n",
       "      <th>team2</th>\n",
       "      <th>toss_winner</th>\n",
       "      <th>toss_decision</th>\n",
       "      <th>player_of_match</th>\n",
       "      <th>...</th>\n",
       "      <th>event</th>\n",
       "      <th>match_number</th>\n",
       "      <th>umpire1</th>\n",
       "      <th>umpire2</th>\n",
       "      <th>reserve_umpire</th>\n",
       "      <th>tv_umpire</th>\n",
       "      <th>match_referee</th>\n",
       "      <th>eliminator</th>\n",
       "      <th>method</th>\n",
       "      <th>date_1</th>\n",
       "    </tr>\n",
       "  </thead>\n",
       "  <tbody>\n",
       "    <tr>\n",
       "      <th>0</th>\n",
       "      <td>335982</td>\n",
       "      <td>2007/08</td>\n",
       "      <td>2008-04-18</td>\n",
       "      <td>Bangalore</td>\n",
       "      <td>M Chinnaswamy Stadium</td>\n",
       "      <td>Royal Challengers Bangalore</td>\n",
       "      <td>Kolkata Knight Riders</td>\n",
       "      <td>Royal Challengers Bangalore</td>\n",
       "      <td>field</td>\n",
       "      <td>BB McCullum</td>\n",
       "      <td>...</td>\n",
       "      <td>Indian Premier League</td>\n",
       "      <td>1.0</td>\n",
       "      <td>Asad Rauf</td>\n",
       "      <td>RE Koertzen</td>\n",
       "      <td>VN Kulkarni</td>\n",
       "      <td>AM Saheba</td>\n",
       "      <td>J Srinath</td>\n",
       "      <td>NaN</td>\n",
       "      <td>NaN</td>\n",
       "      <td>NaN</td>\n",
       "    </tr>\n",
       "    <tr>\n",
       "      <th>1</th>\n",
       "      <td>335983</td>\n",
       "      <td>2007/08</td>\n",
       "      <td>2008-04-19</td>\n",
       "      <td>Chandigarh</td>\n",
       "      <td>Punjab Cricket Association Stadium, Mohali</td>\n",
       "      <td>Kings XI Punjab</td>\n",
       "      <td>Chennai Super Kings</td>\n",
       "      <td>Chennai Super Kings</td>\n",
       "      <td>bat</td>\n",
       "      <td>MEK Hussey</td>\n",
       "      <td>...</td>\n",
       "      <td>Indian Premier League</td>\n",
       "      <td>2.0</td>\n",
       "      <td>MR Benson</td>\n",
       "      <td>SL Shastri</td>\n",
       "      <td>MSS Ranawat</td>\n",
       "      <td>RB Tiffin</td>\n",
       "      <td>S Venkataraghavan</td>\n",
       "      <td>NaN</td>\n",
       "      <td>NaN</td>\n",
       "      <td>NaN</td>\n",
       "    </tr>\n",
       "    <tr>\n",
       "      <th>2</th>\n",
       "      <td>335984</td>\n",
       "      <td>2007/08</td>\n",
       "      <td>2008-04-19</td>\n",
       "      <td>Delhi</td>\n",
       "      <td>Feroz Shah Kotla</td>\n",
       "      <td>Delhi Daredevils</td>\n",
       "      <td>Rajasthan Royals</td>\n",
       "      <td>Rajasthan Royals</td>\n",
       "      <td>bat</td>\n",
       "      <td>MF Maharoof</td>\n",
       "      <td>...</td>\n",
       "      <td>Indian Premier League</td>\n",
       "      <td>3.0</td>\n",
       "      <td>Aleem Dar</td>\n",
       "      <td>GA Pratapkumar</td>\n",
       "      <td>NaN</td>\n",
       "      <td>IL Howell</td>\n",
       "      <td>GR Viswanath</td>\n",
       "      <td>NaN</td>\n",
       "      <td>NaN</td>\n",
       "      <td>NaN</td>\n",
       "    </tr>\n",
       "    <tr>\n",
       "      <th>3</th>\n",
       "      <td>335985</td>\n",
       "      <td>2007/08</td>\n",
       "      <td>2008-04-20</td>\n",
       "      <td>Mumbai</td>\n",
       "      <td>Wankhede Stadium</td>\n",
       "      <td>Mumbai Indians</td>\n",
       "      <td>Royal Challengers Bangalore</td>\n",
       "      <td>Mumbai Indians</td>\n",
       "      <td>bat</td>\n",
       "      <td>MV Boucher</td>\n",
       "      <td>...</td>\n",
       "      <td>Indian Premier League</td>\n",
       "      <td>5.0</td>\n",
       "      <td>SJ Davis</td>\n",
       "      <td>DJ Harper</td>\n",
       "      <td>SN Bandekar</td>\n",
       "      <td>AV Jayaprakash</td>\n",
       "      <td>J Srinath</td>\n",
       "      <td>NaN</td>\n",
       "      <td>NaN</td>\n",
       "      <td>NaN</td>\n",
       "    </tr>\n",
       "    <tr>\n",
       "      <th>4</th>\n",
       "      <td>335986</td>\n",
       "      <td>2007/08</td>\n",
       "      <td>2008-04-20</td>\n",
       "      <td>Kolkata</td>\n",
       "      <td>Eden Gardens</td>\n",
       "      <td>Kolkata Knight Riders</td>\n",
       "      <td>Deccan Chargers</td>\n",
       "      <td>Deccan Chargers</td>\n",
       "      <td>bat</td>\n",
       "      <td>DJ Hussey</td>\n",
       "      <td>...</td>\n",
       "      <td>Indian Premier League</td>\n",
       "      <td>4.0</td>\n",
       "      <td>BF Bowden</td>\n",
       "      <td>K Hariharan</td>\n",
       "      <td>F Gomes</td>\n",
       "      <td>Asad Rauf</td>\n",
       "      <td>FM Engineer</td>\n",
       "      <td>NaN</td>\n",
       "      <td>NaN</td>\n",
       "      <td>NaN</td>\n",
       "    </tr>\n",
       "    <tr>\n",
       "      <th>5</th>\n",
       "      <td>335987</td>\n",
       "      <td>2007/08</td>\n",
       "      <td>2008-04-21</td>\n",
       "      <td>Jaipur</td>\n",
       "      <td>Sawai Mansingh Stadium</td>\n",
       "      <td>Rajasthan Royals</td>\n",
       "      <td>Kings XI Punjab</td>\n",
       "      <td>Kings XI Punjab</td>\n",
       "      <td>bat</td>\n",
       "      <td>SR Watson</td>\n",
       "      <td>...</td>\n",
       "      <td>Indian Premier League</td>\n",
       "      <td>6.0</td>\n",
       "      <td>Aleem Dar</td>\n",
       "      <td>RB Tiffin</td>\n",
       "      <td>MSS Ranawat</td>\n",
       "      <td>I Shivram</td>\n",
       "      <td>S Venkataraghavan</td>\n",
       "      <td>NaN</td>\n",
       "      <td>NaN</td>\n",
       "      <td>NaN</td>\n",
       "    </tr>\n",
       "    <tr>\n",
       "      <th>6</th>\n",
       "      <td>335988</td>\n",
       "      <td>2007/08</td>\n",
       "      <td>2008-04-22</td>\n",
       "      <td>Hyderabad</td>\n",
       "      <td>Rajiv Gandhi International Stadium, Uppal</td>\n",
       "      <td>Deccan Chargers</td>\n",
       "      <td>Delhi Daredevils</td>\n",
       "      <td>Deccan Chargers</td>\n",
       "      <td>bat</td>\n",
       "      <td>V Sehwag</td>\n",
       "      <td>...</td>\n",
       "      <td>Indian Premier League</td>\n",
       "      <td>7.0</td>\n",
       "      <td>IL Howell</td>\n",
       "      <td>AM Saheba</td>\n",
       "      <td>C Shamshuddin</td>\n",
       "      <td>MR Benson</td>\n",
       "      <td>Talat Ali</td>\n",
       "      <td>NaN</td>\n",
       "      <td>NaN</td>\n",
       "      <td>NaN</td>\n",
       "    </tr>\n",
       "    <tr>\n",
       "      <th>7</th>\n",
       "      <td>335989</td>\n",
       "      <td>2007/08</td>\n",
       "      <td>2008-04-23</td>\n",
       "      <td>Chennai</td>\n",
       "      <td>MA Chidambaram Stadium, Chepauk</td>\n",
       "      <td>Chennai Super Kings</td>\n",
       "      <td>Mumbai Indians</td>\n",
       "      <td>Mumbai Indians</td>\n",
       "      <td>field</td>\n",
       "      <td>ML Hayden</td>\n",
       "      <td>...</td>\n",
       "      <td>Indian Premier League</td>\n",
       "      <td>8.0</td>\n",
       "      <td>DJ Harper</td>\n",
       "      <td>GA Pratapkumar</td>\n",
       "      <td>S Ravi</td>\n",
       "      <td>BF Bowden</td>\n",
       "      <td>FM Engineer</td>\n",
       "      <td>NaN</td>\n",
       "      <td>NaN</td>\n",
       "      <td>NaN</td>\n",
       "    </tr>\n",
       "    <tr>\n",
       "      <th>8</th>\n",
       "      <td>335990</td>\n",
       "      <td>2007/08</td>\n",
       "      <td>2008-04-24</td>\n",
       "      <td>Hyderabad</td>\n",
       "      <td>Rajiv Gandhi International Stadium, Uppal</td>\n",
       "      <td>Deccan Chargers</td>\n",
       "      <td>Rajasthan Royals</td>\n",
       "      <td>Rajasthan Royals</td>\n",
       "      <td>field</td>\n",
       "      <td>YK Pathan</td>\n",
       "      <td>...</td>\n",
       "      <td>Indian Premier League</td>\n",
       "      <td>9.0</td>\n",
       "      <td>Asad Rauf</td>\n",
       "      <td>MR Benson</td>\n",
       "      <td>C Shamshuddin</td>\n",
       "      <td>SL Shastri</td>\n",
       "      <td>S Venkataraghavan</td>\n",
       "      <td>NaN</td>\n",
       "      <td>NaN</td>\n",
       "      <td>NaN</td>\n",
       "    </tr>\n",
       "    <tr>\n",
       "      <th>9</th>\n",
       "      <td>335991</td>\n",
       "      <td>2007/08</td>\n",
       "      <td>2008-04-25</td>\n",
       "      <td>Chandigarh</td>\n",
       "      <td>Punjab Cricket Association Stadium, Mohali</td>\n",
       "      <td>Kings XI Punjab</td>\n",
       "      <td>Mumbai Indians</td>\n",
       "      <td>Mumbai Indians</td>\n",
       "      <td>field</td>\n",
       "      <td>KC Sangakkara</td>\n",
       "      <td>...</td>\n",
       "      <td>Indian Premier League</td>\n",
       "      <td>10.0</td>\n",
       "      <td>Aleem Dar</td>\n",
       "      <td>AM Saheba</td>\n",
       "      <td>HS Sekhon</td>\n",
       "      <td>RE Koertzen</td>\n",
       "      <td>FM Engineer</td>\n",
       "      <td>NaN</td>\n",
       "      <td>NaN</td>\n",
       "      <td>NaN</td>\n",
       "    </tr>\n",
       "  </tbody>\n",
       "</table>\n",
       "<p>10 rows × 27 columns</p>\n",
       "</div>"
      ],
      "text/plain": [
       "   match_id   season        date        city  \\\n",
       "0    335982  2007/08  2008-04-18   Bangalore   \n",
       "1    335983  2007/08  2008-04-19  Chandigarh   \n",
       "2    335984  2007/08  2008-04-19       Delhi   \n",
       "3    335985  2007/08  2008-04-20      Mumbai   \n",
       "4    335986  2007/08  2008-04-20     Kolkata   \n",
       "5    335987  2007/08  2008-04-21      Jaipur   \n",
       "6    335988  2007/08  2008-04-22   Hyderabad   \n",
       "7    335989  2007/08  2008-04-23     Chennai   \n",
       "8    335990  2007/08  2008-04-24   Hyderabad   \n",
       "9    335991  2007/08  2008-04-25  Chandigarh   \n",
       "\n",
       "                                        venue                        team1  \\\n",
       "0                       M Chinnaswamy Stadium  Royal Challengers Bangalore   \n",
       "1  Punjab Cricket Association Stadium, Mohali              Kings XI Punjab   \n",
       "2                            Feroz Shah Kotla             Delhi Daredevils   \n",
       "3                            Wankhede Stadium               Mumbai Indians   \n",
       "4                                Eden Gardens        Kolkata Knight Riders   \n",
       "5                      Sawai Mansingh Stadium             Rajasthan Royals   \n",
       "6   Rajiv Gandhi International Stadium, Uppal              Deccan Chargers   \n",
       "7             MA Chidambaram Stadium, Chepauk          Chennai Super Kings   \n",
       "8   Rajiv Gandhi International Stadium, Uppal              Deccan Chargers   \n",
       "9  Punjab Cricket Association Stadium, Mohali              Kings XI Punjab   \n",
       "\n",
       "                         team2                  toss_winner toss_decision  \\\n",
       "0        Kolkata Knight Riders  Royal Challengers Bangalore         field   \n",
       "1          Chennai Super Kings          Chennai Super Kings           bat   \n",
       "2             Rajasthan Royals             Rajasthan Royals           bat   \n",
       "3  Royal Challengers Bangalore               Mumbai Indians           bat   \n",
       "4              Deccan Chargers              Deccan Chargers           bat   \n",
       "5              Kings XI Punjab              Kings XI Punjab           bat   \n",
       "6             Delhi Daredevils              Deccan Chargers           bat   \n",
       "7               Mumbai Indians               Mumbai Indians         field   \n",
       "8             Rajasthan Royals             Rajasthan Royals         field   \n",
       "9               Mumbai Indians               Mumbai Indians         field   \n",
       "\n",
       "  player_of_match  ...                  event  match_number    umpire1  \\\n",
       "0     BB McCullum  ...  Indian Premier League           1.0  Asad Rauf   \n",
       "1      MEK Hussey  ...  Indian Premier League           2.0  MR Benson   \n",
       "2     MF Maharoof  ...  Indian Premier League           3.0  Aleem Dar   \n",
       "3      MV Boucher  ...  Indian Premier League           5.0   SJ Davis   \n",
       "4       DJ Hussey  ...  Indian Premier League           4.0  BF Bowden   \n",
       "5       SR Watson  ...  Indian Premier League           6.0  Aleem Dar   \n",
       "6        V Sehwag  ...  Indian Premier League           7.0  IL Howell   \n",
       "7       ML Hayden  ...  Indian Premier League           8.0  DJ Harper   \n",
       "8       YK Pathan  ...  Indian Premier League           9.0  Asad Rauf   \n",
       "9   KC Sangakkara  ...  Indian Premier League          10.0  Aleem Dar   \n",
       "\n",
       "          umpire2 reserve_umpire       tv_umpire      match_referee  \\\n",
       "0     RE Koertzen    VN Kulkarni       AM Saheba          J Srinath   \n",
       "1      SL Shastri    MSS Ranawat       RB Tiffin  S Venkataraghavan   \n",
       "2  GA Pratapkumar            NaN       IL Howell       GR Viswanath   \n",
       "3       DJ Harper    SN Bandekar  AV Jayaprakash          J Srinath   \n",
       "4     K Hariharan        F Gomes       Asad Rauf        FM Engineer   \n",
       "5       RB Tiffin    MSS Ranawat       I Shivram  S Venkataraghavan   \n",
       "6       AM Saheba  C Shamshuddin       MR Benson          Talat Ali   \n",
       "7  GA Pratapkumar         S Ravi       BF Bowden        FM Engineer   \n",
       "8       MR Benson  C Shamshuddin      SL Shastri  S Venkataraghavan   \n",
       "9       AM Saheba      HS Sekhon     RE Koertzen        FM Engineer   \n",
       "\n",
       "  eliminator  method date_1  \n",
       "0        NaN     NaN    NaN  \n",
       "1        NaN     NaN    NaN  \n",
       "2        NaN     NaN    NaN  \n",
       "3        NaN     NaN    NaN  \n",
       "4        NaN     NaN    NaN  \n",
       "5        NaN     NaN    NaN  \n",
       "6        NaN     NaN    NaN  \n",
       "7        NaN     NaN    NaN  \n",
       "8        NaN     NaN    NaN  \n",
       "9        NaN     NaN    NaN  \n",
       "\n",
       "[10 rows x 27 columns]"
      ]
     },
     "execution_count": 4,
     "metadata": {},
     "output_type": "execute_result"
    }
   ],
   "source": [
    "df_info = pd.read_csv('/kaggle/input/ipl-complete-dataset-2008-2022/ipl_match_info_data.csv')\n",
    "print(\"-------- Match info --------\")\n",
    "print(\"\\nData Shape is :\",df_info.shape)\n",
    "print(\"\\nShow Top 10 Records\")\n",
    "df_info.head(10)"
   ]
  },
  {
   "cell_type": "markdown",
   "id": "5d2bfca7",
   "metadata": {
    "papermill": {
     "duration": 0.019295,
     "end_time": "2023-05-03T18:05:07.076934",
     "exception": false,
     "start_time": "2023-05-03T18:05:07.057639",
     "status": "completed"
    },
    "tags": []
   },
   "source": [
    "<a id=\"section-2\"></a>\n",
    "\n",
    "<div style=\"color:white;display:fill;border-radius:8px;\n",
    "            background-color:#0E1585;font-size:150%;\n",
    "            font-family:Nexa;letter-spacing:0.5px\">\n",
    "    <p style=\"padding: 8px;color:white;\"><b>2.0 | Exploratory Data Analysis (EDA) </b></p>\n",
    "</div>"
   ]
  },
  {
   "cell_type": "markdown",
   "id": "5c633a4d",
   "metadata": {
    "papermill": {
     "duration": 0.02069,
     "end_time": "2023-05-03T18:05:07.120783",
     "exception": false,
     "start_time": "2023-05-03T18:05:07.100093",
     "status": "completed"
    },
    "tags": []
   },
   "source": [
    "<a id=\"section-two-one\"></a>\n",
    "\n",
    "<div style=\"color:white;display:fill;border-radius:8px;\n",
    "            background-color:#0E1585;font-size:150%;\n",
    "            font-family:Nexa;letter-spacing:0.5px\">\n",
    "    <p style=\"padding: 8px;color:white;\"><b>2.1 | Checking Missing Values</b></p>\n",
    "</div>"
   ]
  },
  {
   "cell_type": "code",
   "execution_count": 5,
   "id": "d5a3c335",
   "metadata": {
    "execution": {
     "iopub.execute_input": "2023-05-03T18:05:07.162151Z",
     "iopub.status.busy": "2023-05-03T18:05:07.161742Z",
     "iopub.status.idle": "2023-05-03T18:05:07.277534Z",
     "shell.execute_reply": "2023-05-03T18:05:07.276214Z"
    },
    "papermill": {
     "duration": 0.139736,
     "end_time": "2023-05-03T18:05:07.280338",
     "exception": false,
     "start_time": "2023-05-03T18:05:07.140602",
     "status": "completed"
    },
    "tags": []
   },
   "outputs": [
    {
     "name": "stdout",
     "output_type": "stream",
     "text": [
      "-------- Match Dataset --------\n",
      "\n",
      "match_id                       0\n",
      "season                         0\n",
      "start_date                     0\n",
      "venue                          0\n",
      "innings                        0\n",
      "ball                           0\n",
      "batting_team                   0\n",
      "bowling_team                   0\n",
      "striker                        0\n",
      "non_striker                    0\n",
      "bowler                         0\n",
      "runs_off_bat                   0\n",
      "extras                         0\n",
      "wides                     218928\n",
      "noballs                   225036\n",
      "byes                      225371\n",
      "legbyes                   222423\n",
      "penalty                   225952\n",
      "wicket_type               214803\n",
      "player_dismissed          214803\n",
      "other_wicket_type         225954\n",
      "other_player_dismissed    225954\n",
      "dtype: int64\n"
     ]
    }
   ],
   "source": [
    "print(\"-------- Match Dataset --------\\n\")\n",
    "print(df.isna().sum())"
   ]
  },
  {
   "cell_type": "code",
   "execution_count": 6,
   "id": "d57e3f9a",
   "metadata": {
    "execution": {
     "iopub.execute_input": "2023-05-03T18:05:07.321994Z",
     "iopub.status.busy": "2023-05-03T18:05:07.321563Z",
     "iopub.status.idle": "2023-05-03T18:05:07.331893Z",
     "shell.execute_reply": "2023-05-03T18:05:07.330576Z"
    },
    "papermill": {
     "duration": 0.034255,
     "end_time": "2023-05-03T18:05:07.334566",
     "exception": false,
     "start_time": "2023-05-03T18:05:07.300311",
     "status": "completed"
    },
    "tags": []
   },
   "outputs": [
    {
     "name": "stdout",
     "output_type": "stream",
     "text": [
      "-------- Match info --------\n",
      "\n",
      "match_id             0\n",
      "season               0\n",
      "date                 0\n",
      "city                51\n",
      "venue                0\n",
      "team1                0\n",
      "team2                0\n",
      "toss_winner          0\n",
      "toss_decision        0\n",
      "player_of_match      4\n",
      "winner              18\n",
      "winner_wickets       0\n",
      "winner_runs          0\n",
      "outcome            932\n",
      "result_type          0\n",
      "results              0\n",
      "gender               0\n",
      "event                0\n",
      "match_number        58\n",
      "umpire1              0\n",
      "umpire2              0\n",
      "reserve_umpire      24\n",
      "tv_umpire            3\n",
      "match_referee        0\n",
      "eliminator         936\n",
      "method             931\n",
      "date_1             948\n",
      "dtype: int64\n"
     ]
    }
   ],
   "source": [
    "print(\"-------- Match info --------\\n\")\n",
    "print(df_info.isna().sum())"
   ]
  },
  {
   "cell_type": "markdown",
   "id": "e24780e7",
   "metadata": {
    "papermill": {
     "duration": 0.02007,
     "end_time": "2023-05-03T18:05:07.374514",
     "exception": false,
     "start_time": "2023-05-03T18:05:07.354444",
     "status": "completed"
    },
    "tags": []
   },
   "source": [
    "<a id=\"section-two-one\"></a>\n",
    "\n",
    "<div style=\"color:white;display:fill;border-radius:8px;\n",
    "            background-color:#0E1585;font-size:150%;\n",
    "            font-family:Nexa;letter-spacing:0.5px\">\n",
    "    <p style=\"padding: 8px;color:white;\"><b>2.2 | Checking Data Types</b></p>\n",
    "</div>"
   ]
  },
  {
   "cell_type": "code",
   "execution_count": 7,
   "id": "6f1b0a8f",
   "metadata": {
    "execution": {
     "iopub.execute_input": "2023-05-03T18:05:07.423843Z",
     "iopub.status.busy": "2023-05-03T18:05:07.423392Z",
     "iopub.status.idle": "2023-05-03T18:05:07.561041Z",
     "shell.execute_reply": "2023-05-03T18:05:07.559849Z"
    },
    "papermill": {
     "duration": 0.162056,
     "end_time": "2023-05-03T18:05:07.563900",
     "exception": false,
     "start_time": "2023-05-03T18:05:07.401844",
     "status": "completed"
    },
    "tags": []
   },
   "outputs": [
    {
     "name": "stdout",
     "output_type": "stream",
     "text": [
      "-------- Match Dataset --------\n",
      "<class 'pandas.core.frame.DataFrame'>\n",
      "RangeIndex: 225954 entries, 0 to 225953\n",
      "Data columns (total 22 columns):\n",
      " #   Column                  Non-Null Count   Dtype  \n",
      "---  ------                  --------------   -----  \n",
      " 0   match_id                225954 non-null  int64  \n",
      " 1   season                  225954 non-null  object \n",
      " 2   start_date              225954 non-null  object \n",
      " 3   venue                   225954 non-null  object \n",
      " 4   innings                 225954 non-null  int64  \n",
      " 5   ball                    225954 non-null  float64\n",
      " 6   batting_team            225954 non-null  object \n",
      " 7   bowling_team            225954 non-null  object \n",
      " 8   striker                 225954 non-null  object \n",
      " 9   non_striker             225954 non-null  object \n",
      " 10  bowler                  225954 non-null  object \n",
      " 11  runs_off_bat            225954 non-null  int64  \n",
      " 12  extras                  225954 non-null  int64  \n",
      " 13  wides                   7026 non-null    float64\n",
      " 14  noballs                 918 non-null     float64\n",
      " 15  byes                    583 non-null     float64\n",
      " 16  legbyes                 3531 non-null    float64\n",
      " 17  penalty                 2 non-null       float64\n",
      " 18  wicket_type             11151 non-null   object \n",
      " 19  player_dismissed        11151 non-null   object \n",
      " 20  other_wicket_type       0 non-null       float64\n",
      " 21  other_player_dismissed  0 non-null       float64\n",
      "dtypes: float64(8), int64(4), object(10)\n",
      "memory usage: 37.9+ MB\n"
     ]
    }
   ],
   "source": [
    "print(\"-------- Match Dataset --------\")\n",
    "df.info()"
   ]
  },
  {
   "cell_type": "markdown",
   "id": "af6a8e18",
   "metadata": {
    "papermill": {
     "duration": 0.020219,
     "end_time": "2023-05-03T18:05:07.604668",
     "exception": false,
     "start_time": "2023-05-03T18:05:07.584449",
     "status": "completed"
    },
    "tags": []
   },
   "source": [
    "<a id=\"section-two-one\"></a>\n",
    "\n",
    "<div style=\"color:white;display:fill;border-radius:8px;\n",
    "            background-color:#0E1585;font-size:150%;\n",
    "            font-family:Nexa;letter-spacing:0.5px\">\n",
    "    <p style=\"padding: 8px;color:white;\"><b>2.3 | Checking the number of unique values of each column</b></p>\n",
    "</div>"
   ]
  },
  {
   "cell_type": "code",
   "execution_count": 8,
   "id": "528be305",
   "metadata": {
    "execution": {
     "iopub.execute_input": "2023-05-03T18:05:07.646895Z",
     "iopub.status.busy": "2023-05-03T18:05:07.646474Z",
     "iopub.status.idle": "2023-05-03T18:05:07.838443Z",
     "shell.execute_reply": "2023-05-03T18:05:07.837133Z"
    },
    "papermill": {
     "duration": 0.216201,
     "end_time": "2023-05-03T18:05:07.841043",
     "exception": false,
     "start_time": "2023-05-03T18:05:07.624842",
     "status": "completed"
    },
    "tags": []
   },
   "outputs": [
    {
     "name": "stdout",
     "output_type": "stream",
     "text": [
      "-------- Match Dataset --------\n"
     ]
    },
    {
     "data": {
      "text/plain": [
       "match_id                  950\n",
       "season                     15\n",
       "start_date                706\n",
       "venue                      49\n",
       "innings                     6\n",
       "ball                      180\n",
       "batting_team               18\n",
       "bowling_team               18\n",
       "striker                   605\n",
       "non_striker               595\n",
       "bowler                    473\n",
       "runs_off_bat                7\n",
       "extras                      7\n",
       "wides                       5\n",
       "noballs                     4\n",
       "byes                        4\n",
       "legbyes                     5\n",
       "penalty                     1\n",
       "wicket_type                10\n",
       "player_dismissed          573\n",
       "other_wicket_type           0\n",
       "other_player_dismissed      0\n",
       "dtype: int64"
      ]
     },
     "execution_count": 8,
     "metadata": {},
     "output_type": "execute_result"
    }
   ],
   "source": [
    "print(\"-------- Match Dataset --------\")\n",
    "df.nunique()"
   ]
  },
  {
   "cell_type": "markdown",
   "id": "5e79a8fa",
   "metadata": {
    "papermill": {
     "duration": 0.020152,
     "end_time": "2023-05-03T18:05:07.881862",
     "exception": false,
     "start_time": "2023-05-03T18:05:07.861710",
     "status": "completed"
    },
    "tags": []
   },
   "source": [
    "<a id=\"section-two-one\"></a>\n",
    "\n",
    "<div style=\"color:white;display:fill;border-radius:8px;\n",
    "            background-color:#0E1585;font-size:150%;\n",
    "            font-family:Nexa;letter-spacing:0.5px\">\n",
    "    <p style=\"padding: 8px;color:white;\"><b>2.4 | Print numerical and categorical columns</b></p>\n",
    "</div>"
   ]
  },
  {
   "cell_type": "code",
   "execution_count": 9,
   "id": "44be4c0b",
   "metadata": {
    "execution": {
     "iopub.execute_input": "2023-05-03T18:05:07.925589Z",
     "iopub.status.busy": "2023-05-03T18:05:07.925144Z",
     "iopub.status.idle": "2023-05-03T18:05:07.934061Z",
     "shell.execute_reply": "2023-05-03T18:05:07.932511Z"
    },
    "papermill": {
     "duration": 0.033608,
     "end_time": "2023-05-03T18:05:07.936738",
     "exception": false,
     "start_time": "2023-05-03T18:05:07.903130",
     "status": "completed"
    },
    "tags": []
   },
   "outputs": [
    {
     "name": "stdout",
     "output_type": "stream",
     "text": [
      "-------- Match Dataset --------\n",
      "We have 12 numerical columns(features) : ['match_id', 'innings', 'ball', 'runs_off_bat', 'extras', 'wides', 'noballs', 'byes', 'legbyes', 'penalty', 'other_wicket_type', 'other_player_dismissed']\n",
      "\n",
      "We have 10 categorical columns(features) : ['season', 'start_date', 'venue', 'batting_team', 'bowling_team', 'striker', 'non_striker', 'bowler', 'wicket_type', 'player_dismissed']\n"
     ]
    }
   ],
   "source": [
    "print(\"-------- Match Dataset --------\")\n",
    "# Define numerical & categorical columns\n",
    "numeric_columns = [column for column in df.columns if df[column].dtype != 'O']\n",
    "categorical_columns = [column for column in df.columns if df[column].dtype == 'O']\n",
    "\n",
    "# print columns\n",
    "print('We have {} numerical columns(features) : {}'.format(len(numeric_columns), numeric_columns))\n",
    "print('\\nWe have {} categorical columns(features) : {}'.format(len(categorical_columns), categorical_columns))"
   ]
  },
  {
   "cell_type": "markdown",
   "id": "fb065fde",
   "metadata": {
    "papermill": {
     "duration": 0.020336,
     "end_time": "2023-05-03T18:05:07.977844",
     "exception": false,
     "start_time": "2023-05-03T18:05:07.957508",
     "status": "completed"
    },
    "tags": []
   },
   "source": [
    "<a id=\"section-two-one\"></a>\n",
    "\n",
    "<div style=\"color:white;display:fill;border-radius:8px;\n",
    "            background-color:#0E1585;font-size:150%;\n",
    "            font-family:Nexa;letter-spacing:0.5px\">\n",
    "    <p style=\"padding: 8px;color:white;\"><b>2.5 | Print the Batting and Bowling teams name</b></p>\n",
    "</div>"
   ]
  },
  {
   "cell_type": "code",
   "execution_count": 10,
   "id": "004002b7",
   "metadata": {
    "execution": {
     "iopub.execute_input": "2023-05-03T18:05:08.021317Z",
     "iopub.status.busy": "2023-05-03T18:05:08.020194Z",
     "iopub.status.idle": "2023-05-03T18:05:08.101048Z",
     "shell.execute_reply": "2023-05-03T18:05:08.099289Z"
    },
    "papermill": {
     "duration": 0.105316,
     "end_time": "2023-05-03T18:05:08.103682",
     "exception": false,
     "start_time": "2023-05-03T18:05:07.998366",
     "status": "completed"
    },
    "tags": []
   },
   "outputs": [
    {
     "name": "stdout",
     "output_type": "stream",
     "text": [
      "-------- Match Dataset --------\n",
      "Batting Team Name: 18\n",
      "['Kolkata Knight Riders' 'Royal Challengers Bangalore'\n",
      " 'Chennai Super Kings' 'Kings XI Punjab' 'Rajasthan Royals'\n",
      " 'Delhi Daredevils' 'Deccan Chargers' 'Mumbai Indians'\n",
      " 'Kochi Tuskers Kerala' 'Pune Warriors' 'Sunrisers Hyderabad'\n",
      " 'Rising Pune Supergiants' 'Gujarat Lions' 'Rising Pune Supergiant'\n",
      " 'Delhi Capitals' 'Punjab Kings' 'Lucknow Super Giants' 'Gujarat Titans']\n",
      "\n",
      "Bowling Team Name: 18\n",
      "['Royal Challengers Bangalore' 'Kolkata Knight Riders' 'Kings XI Punjab'\n",
      " 'Chennai Super Kings' 'Delhi Daredevils' 'Rajasthan Royals'\n",
      " 'Deccan Chargers' 'Mumbai Indians' 'Kochi Tuskers Kerala' 'Pune Warriors'\n",
      " 'Sunrisers Hyderabad' 'Rising Pune Supergiants' 'Gujarat Lions'\n",
      " 'Rising Pune Supergiant' 'Delhi Capitals' 'Punjab Kings' 'Gujarat Titans'\n",
      " 'Lucknow Super Giants']\n"
     ]
    }
   ],
   "source": [
    "print(\"-------- Match Dataset --------\")\n",
    "# for feature in df.columns :\n",
    "#     if df[feature].dtype == 'O':\n",
    "#         print('Categories in {} variable : {}'.format(feature,df[feature].unique()))\n",
    "print(\"Batting Team Name: {}\".format(df['batting_team'].nunique()))\n",
    "print(df['batting_team'].unique())\n",
    "print(\"\\nBowling Team Name: {}\".format(df['bowling_team'].nunique()))\n",
    "print(df['bowling_team'].unique())"
   ]
  },
  {
   "cell_type": "markdown",
   "id": "79f4f862",
   "metadata": {
    "papermill": {
     "duration": 0.020372,
     "end_time": "2023-05-03T18:05:08.145239",
     "exception": false,
     "start_time": "2023-05-03T18:05:08.124867",
     "status": "completed"
    },
    "tags": []
   },
   "source": [
    "<a id=\"section-two-one\"></a>\n",
    "\n",
    "<div style=\"color:white;display:fill;border-radius:8px;\n",
    "            background-color:#0E1585;font-size:150%;\n",
    "            font-family:Nexa;letter-spacing:0.5px\">\n",
    "    <p style=\"padding: 8px;color:white;\"><b>2.6 | Replacing the current team names in the 'batting_team' and 'bowling_team' columns with the old team names</b></p>\n",
    "</div>"
   ]
  },
  {
   "cell_type": "code",
   "execution_count": 11,
   "id": "068ebe8d",
   "metadata": {
    "execution": {
     "iopub.execute_input": "2023-05-03T18:05:08.189464Z",
     "iopub.status.busy": "2023-05-03T18:05:08.189031Z",
     "iopub.status.idle": "2023-05-03T18:05:08.295373Z",
     "shell.execute_reply": "2023-05-03T18:05:08.294138Z"
    },
    "papermill": {
     "duration": 0.132389,
     "end_time": "2023-05-03T18:05:08.298313",
     "exception": false,
     "start_time": "2023-05-03T18:05:08.165924",
     "status": "completed"
    },
    "tags": []
   },
   "outputs": [],
   "source": [
    "# define a dictionary to map the values to be replaced with their corresponding replacements\n",
    "replace_dict = {'Delhi Daredevils': 'Delhi Capitals','Deccan Chargers':'Sunrisers Hyderabad','Pune Warriors':'Rising Pune Supergiants','Rising Pune Supergiant':'Rising Pune Supergiants','Gujarat Lions':'Gujarat Titans','Kings XI Punjab':'Punjab Kings'}\n",
    "## Match Dataset\n",
    "df['batting_team'].replace(replace_dict,inplace=True)\n",
    "df['bowling_team'].replace(replace_dict,inplace=True)\n",
    "## Match info\n",
    "df_info['team1'].replace(replace_dict,inplace=True)\n",
    "df_info['team2'].replace(replace_dict,inplace=True)\n",
    "df_info['toss_winner'].replace(replace_dict,inplace=True)\n",
    "df_info['winner'].replace(replace_dict,inplace=True)"
   ]
  },
  {
   "cell_type": "markdown",
   "id": "9f3a5086",
   "metadata": {
    "papermill": {
     "duration": 0.020546,
     "end_time": "2023-05-03T18:05:08.339770",
     "exception": false,
     "start_time": "2023-05-03T18:05:08.319224",
     "status": "completed"
    },
    "tags": []
   },
   "source": [
    "<a id=\"section-two-one\"></a>\n",
    "\n",
    "<div style=\"color:white;display:fill;border-radius:8px;\n",
    "            background-color:#0E1585;font-size:150%;\n",
    "            font-family:Nexa;letter-spacing:0.5px\">\n",
    "    <p style=\"padding: 8px;color:white;\"><b>2.7 | Creating a column of the short name of all the teams</b></p>\n",
    "</div>"
   ]
  },
  {
   "cell_type": "code",
   "execution_count": 12,
   "id": "9d752b68",
   "metadata": {
    "execution": {
     "iopub.execute_input": "2023-05-03T18:05:08.382823Z",
     "iopub.status.busy": "2023-05-03T18:05:08.382386Z",
     "iopub.status.idle": "2023-05-03T18:05:08.429172Z",
     "shell.execute_reply": "2023-05-03T18:05:08.427912Z"
    },
    "papermill": {
     "duration": 0.071993,
     "end_time": "2023-05-03T18:05:08.432302",
     "exception": false,
     "start_time": "2023-05-03T18:05:08.360309",
     "status": "completed"
    },
    "tags": []
   },
   "outputs": [],
   "source": [
    "# Define the mapping dictionary\n",
    "short_name = {'Kolkata Knight Riders': 'KKR',\n",
    "              'Royal Challengers Bangalore':'RCB',\n",
    "              'Chennai Super Kings':'CSK',\n",
    "              'Punjab Kings':'PBKS',\n",
    "              'Rajasthan Royals':'RR',\n",
    "              'Delhi Capitals':'DC',\n",
    "              'Sunrisers Hyderabad':'SRH',\n",
    "              'Mumbai Indians':'MI',\n",
    "              'Kochi Tuskers Kerala':'KTK',\n",
    "              'Rising Pune Supergiants':'RPSG',\n",
    "              'Gujarat Titans':'GT',\n",
    "              'Lucknow Super Giants':'LSG'}\n",
    "# Map the values of batting_team column to shortnames\n",
    "df['batting_team_short_name'] = df['batting_team'].map(short_name)\n",
    "\n",
    "# Map the values of bowling_team column to shortnames\n",
    "df['bowling_team_short_name'] = df['bowling_team'].map(short_name)"
   ]
  },
  {
   "cell_type": "markdown",
   "id": "53e7a82f",
   "metadata": {
    "papermill": {
     "duration": 0.02028,
     "end_time": "2023-05-03T18:05:08.473392",
     "exception": false,
     "start_time": "2023-05-03T18:05:08.453112",
     "status": "completed"
    },
    "tags": []
   },
   "source": [
    "<a id=\"section-two-one\"></a>\n",
    "\n",
    "<div style=\"color:white;display:fill;border-radius:8px;\n",
    "            background-color:#0E1585;font-size:150%;\n",
    "            font-family:Nexa;letter-spacing:0.5px\">\n",
    "    <p style=\"padding: 8px;color:white;\"><b>2.8 | Renaming column name</b></p>\n",
    "</div>"
   ]
  },
  {
   "cell_type": "code",
   "execution_count": 13,
   "id": "7d7f09ed",
   "metadata": {
    "execution": {
     "iopub.execute_input": "2023-05-03T18:05:08.516695Z",
     "iopub.status.busy": "2023-05-03T18:05:08.515938Z",
     "iopub.status.idle": "2023-05-03T18:05:08.685725Z",
     "shell.execute_reply": "2023-05-03T18:05:08.684262Z"
    },
    "papermill": {
     "duration": 0.194766,
     "end_time": "2023-05-03T18:05:08.688794",
     "exception": false,
     "start_time": "2023-05-03T18:05:08.494028",
     "status": "completed"
    },
    "tags": []
   },
   "outputs": [],
   "source": [
    "## Match Dataset\n",
    "# Rename column 'venue' to 'Stadium'\n",
    "df = df.rename(columns={'venue': 'stadium'})\n",
    "# Rename column 'ball' to 'over'\n",
    "df = df.rename(columns={'ball': 'over'})\n",
    "\n",
    "## Match info\n",
    "# Rename column 'venue' to 'Stadium'\n",
    "df_info = df_info.rename(columns={'venue': 'stadium'})"
   ]
  },
  {
   "cell_type": "markdown",
   "id": "c8fad5a6",
   "metadata": {
    "papermill": {
     "duration": 0.02075,
     "end_time": "2023-05-03T18:05:08.730626",
     "exception": false,
     "start_time": "2023-05-03T18:05:08.709876",
     "status": "completed"
    },
    "tags": []
   },
   "source": [
    "<a id=\"section-two-one\"></a>\n",
    "\n",
    "<div style=\"color:white;display:fill;border-radius:8px;\n",
    "            background-color:#0E1585;font-size:150%;\n",
    "            font-family:Nexa;letter-spacing:0.5px\">\n",
    "    <p style=\"padding: 8px;color:white;\"><b>2.9 | Print all stadium name</b></p>\n",
    "</div>"
   ]
  },
  {
   "cell_type": "code",
   "execution_count": 14,
   "id": "03a56af6",
   "metadata": {
    "execution": {
     "iopub.execute_input": "2023-05-03T18:05:08.775196Z",
     "iopub.status.busy": "2023-05-03T18:05:08.774767Z",
     "iopub.status.idle": "2023-05-03T18:05:08.822393Z",
     "shell.execute_reply": "2023-05-03T18:05:08.820298Z"
    },
    "papermill": {
     "duration": 0.072862,
     "end_time": "2023-05-03T18:05:08.825216",
     "exception": false,
     "start_time": "2023-05-03T18:05:08.752354",
     "status": "completed"
    },
    "tags": []
   },
   "outputs": [
    {
     "name": "stdout",
     "output_type": "stream",
     "text": [
      "stadium: 49\n",
      "['M Chinnaswamy Stadium' 'Punjab Cricket Association Stadium, Mohali'\n",
      " 'Feroz Shah Kotla' 'Eden Gardens' 'Wankhede Stadium'\n",
      " 'Sawai Mansingh Stadium' 'Rajiv Gandhi International Stadium, Uppal'\n",
      " 'MA Chidambaram Stadium, Chepauk' 'Dr DY Patil Sports Academy' 'Newlands'\n",
      " \"St George's Park\" 'Kingsmead' 'SuperSport Park' 'Buffalo Park'\n",
      " 'New Wanderers Stadium' 'De Beers Diamond Oval' 'OUTsurance Oval'\n",
      " 'Brabourne Stadium' 'Sardar Patel Stadium, Motera' 'Barabati Stadium'\n",
      " 'Brabourne Stadium, Mumbai'\n",
      " 'Vidarbha Cricket Association Stadium, Jamtha'\n",
      " 'Himachal Pradesh Cricket Association Stadium' 'Nehru Stadium'\n",
      " 'Holkar Cricket Stadium'\n",
      " 'Dr. Y.S. Rajasekhara Reddy ACA-VDCA Cricket Stadium'\n",
      " 'Subrata Roy Sahara Stadium' 'Maharashtra Cricket Association Stadium'\n",
      " 'Shaheed Veer Narayan Singh International Stadium'\n",
      " 'JSCA International Stadium Complex' 'Sheikh Zayed Stadium'\n",
      " 'Sharjah Cricket Stadium' 'Dubai International Cricket Stadium'\n",
      " 'Punjab Cricket Association IS Bindra Stadium, Mohali'\n",
      " 'Saurashtra Cricket Association Stadium' 'Green Park'\n",
      " 'M.Chinnaswamy Stadium' 'MA Chidambaram Stadium' 'Arun Jaitley Stadium'\n",
      " 'Rajiv Gandhi International Stadium'\n",
      " 'Punjab Cricket Association IS Bindra Stadium'\n",
      " 'MA Chidambaram Stadium, Chepauk, Chennai' 'Wankhede Stadium, Mumbai'\n",
      " 'Narendra Modi Stadium, Ahmedabad' 'Arun Jaitley Stadium, Delhi'\n",
      " 'Zayed Cricket Stadium, Abu Dhabi' 'Dr DY Patil Sports Academy, Mumbai'\n",
      " 'Maharashtra Cricket Association Stadium, Pune' 'Eden Gardens, Kolkata']\n"
     ]
    }
   ],
   "source": [
    "print(\"stadium: {}\".format(df['stadium'].nunique()))\n",
    "print(df['stadium'].unique())"
   ]
  },
  {
   "cell_type": "markdown",
   "id": "7271414b",
   "metadata": {
    "papermill": {
     "duration": 0.024643,
     "end_time": "2023-05-03T18:05:08.870843",
     "exception": false,
     "start_time": "2023-05-03T18:05:08.846200",
     "status": "completed"
    },
    "tags": []
   },
   "source": [
    "<a id=\"section-two-one\"></a>\n",
    "\n",
    "<div style=\"color:white;display:fill;border-radius:8px;\n",
    "            background-color:#0E1585;font-size:150%;\n",
    "            font-family:Nexa;letter-spacing:0.5px\">\n",
    "    <p style=\"padding: 8px;color:white;\"><b>2.10 | Create a 'venue' column to include the venue information for each stadium</b></p>\n",
    "</div>"
   ]
  },
  {
   "cell_type": "code",
   "execution_count": 15,
   "id": "96766cbd",
   "metadata": {
    "execution": {
     "iopub.execute_input": "2023-05-03T18:05:08.927778Z",
     "iopub.status.busy": "2023-05-03T18:05:08.927315Z",
     "iopub.status.idle": "2023-05-03T18:05:08.961832Z",
     "shell.execute_reply": "2023-05-03T18:05:08.960484Z"
    },
    "papermill": {
     "duration": 0.069368,
     "end_time": "2023-05-03T18:05:08.965202",
     "exception": false,
     "start_time": "2023-05-03T18:05:08.895834",
     "status": "completed"
    },
    "tags": []
   },
   "outputs": [],
   "source": [
    "venue_stadium = {'M Chinnaswamy Stadium':'Bengaluru',\n",
    "         'Punjab Cricket Association Stadium, Mohali':'Mohali',\n",
    "         'Feroz Shah Kotla':'Delhi',\n",
    "         'Eden Gardens': 'Kolkata',\n",
    "         'Wankhede Stadium' : 'Mumbai',\n",
    "         'Sawai Mansingh Stadium': 'Jaipur',\n",
    "         'Rajiv Gandhi International Stadium, Uppal':'Hyderabad',\n",
    "         'MA Chidambaram Stadium, Chepauk': 'Chennai',\n",
    "         'Dr DY Patil Sports Academy' : 'Mumbai',\n",
    "         'Newlands': 'Cape Town, South Africa',\n",
    "         \"St George's Park\" : 'Gqeberha, South Africa',\n",
    "        'Kingsmead' : 'Durban, KwaZulu-Natal, South Africa',\n",
    "        'SuperSport Park' : 'Centurion, South Africa',\n",
    "         'Buffalo Park': 'East London, Eastern Cape, South Africa',\n",
    "          'New Wanderers Stadium':'Johannesburg, South Africa',\n",
    "         'De Beers Diamond Oval' : 'Kimberley, South Africa',\n",
    "         'OUTsurance Oval': 'Bloemfontein, South Africa',\n",
    "         'Brabourne Stadium':'Mumbai',\n",
    "         'Brabourne Stadium, Mumbai':'Mumbai',\n",
    "         'Sardar Patel Stadium, Motera':'Ahmedabad',\n",
    "         'Barabati Stadium':'Cuttack',\n",
    "         'Vidarbha Cricket Association Stadium, Jamtha':'Jamtha',\n",
    "         'Himachal Pradesh Cricket Association Stadium' :'Dharamshala',\n",
    "         'Nehru Stadium':'Delhi',\n",
    "         'Holkar Cricket Stadium': 'Indore',\n",
    "         'Dr. Y.S. Rajasekhara Reddy ACA-VDCA Cricket Stadium' :'Visakhapatnam',\n",
    "         'Subrata Roy Sahara Stadium' : 'Pune',\n",
    "         'Maharashtra Cricket Association Stadium': 'Pune',\n",
    "         'Maharashtra Cricket Association Stadium' : 'Pune',\n",
    "         'Shaheed Veer Narayan Singh International Stadium': 'Raipur',\n",
    "         'JSCA International Stadium Complex': 'Ranchi',\n",
    "         'Sheikh Zayed Stadium' :'Abu Dhabi, UAE',\n",
    "         'Sharjah Cricket Stadium' :'Sharjah, UAE',\n",
    "         'Dubai International Cricket Stadium' : 'Dubai, UAE',\n",
    "         'Punjab Cricket Association IS Bindra Stadium, Mohali' : 'Mohali',\n",
    "         'Saurashtra Cricket Association Stadium': 'Rajkot',\n",
    "         'Green Park' :'Kanpur',\n",
    "         'M.Chinnaswamy Stadium' : 'Bengaluru',\n",
    "         'MA Chidambaram Stadium': 'Chennai',\n",
    "         'Arun Jaitley Stadium' : 'Delhi',\n",
    "         'Rajiv Gandhi International Stadium':'Hyderabad',\n",
    "         'Punjab Cricket Association IS Bindra Stadium': 'Mohali',\n",
    "         'MA Chidambaram Stadium, Chepauk, Chennai': 'Chennai',\n",
    "         'Wankhede Stadium, Mumbai': 'Mumbai',\n",
    "         'Narendra Modi Stadium, Ahmedabad':'Ahmedabad',\n",
    "         'Arun Jaitley Stadium, Delhi':'Delhi', \n",
    "         'Zayed Cricket Stadium, Abu Dhabi' : 'Abu Dhabi, UAE',\n",
    "         'Dr DY Patil Sports Academy, Mumbai' : 'Mumbai',\n",
    "         'Maharashtra Cricket Association Stadium, Pune' : 'Pune',\n",
    "         'Eden Gardens, Kolkata': 'Kolkata'\n",
    "        }\n",
    "## Match Datset\n",
    "# Map the values of stadium column to venue_stadium\n",
    "df['venue'] = df['stadium'].map(venue_stadium)\n",
    "\n",
    "## Match info\n",
    "# Map the values of stadium column to venue_stadium\n",
    "df_info['venue'] = df_info['stadium'].map(venue_stadium)"
   ]
  },
  {
   "cell_type": "markdown",
   "id": "bec71366",
   "metadata": {
    "papermill": {
     "duration": 0.029285,
     "end_time": "2023-05-03T18:05:09.024799",
     "exception": false,
     "start_time": "2023-05-03T18:05:08.995514",
     "status": "completed"
    },
    "tags": []
   },
   "source": [
    "<a id=\"section-two-one\"></a>\n",
    "\n",
    "<div style=\"color:white;display:fill;border-radius:8px;\n",
    "            background-color:#0E1585;font-size:150%;\n",
    "            font-family:Nexa;letter-spacing:0.5px\">\n",
    "    <p style=\"padding: 8px;color:white;\"><b>2.11 | Create a 'actual_name_stadium' column to include the actual name of each stadium</b></p>\n",
    "</div>"
   ]
  },
  {
   "cell_type": "code",
   "execution_count": 16,
   "id": "80a62474",
   "metadata": {
    "execution": {
     "iopub.execute_input": "2023-05-03T18:05:09.074686Z",
     "iopub.status.busy": "2023-05-03T18:05:09.074117Z",
     "iopub.status.idle": "2023-05-03T18:05:09.113802Z",
     "shell.execute_reply": "2023-05-03T18:05:09.112565Z"
    },
    "papermill": {
     "duration": 0.066386,
     "end_time": "2023-05-03T18:05:09.116697",
     "exception": false,
     "start_time": "2023-05-03T18:05:09.050311",
     "status": "completed"
    },
    "tags": []
   },
   "outputs": [],
   "source": [
    "actual_name_stadium = {'Brabourne Stadium': 'Brabourne Stadium, Mumbai',\n",
    "                'M Chinnaswamy Stadium' : 'Mangalam Chinnaswamy Stadium',\n",
    "                'Punjab Cricket Association Stadium, Mohali':'Inderjit Singh Bindra Stadium',\n",
    "                'Feroz Shah Kotla':'Arun Jaitley Cricket Stadium',\n",
    "                'Eden Gardens' :'Eden Gardens',\n",
    "                'Wankhede Stadium' : 'Sheshrao Krushnarao Wankhede Stadium',\n",
    "                'Sawai Mansingh Stadium' :'Sawai Mansingh Stadium',\n",
    "                'Rajiv Gandhi International Stadium, Uppal' :'Rajiv Gandhi International Stadium',\n",
    "                'MA Chidambaram Stadium, Chepauk': 'M.A. Chidambaram stadium',\n",
    "                'Dr DY Patil Sports Academy' : 'Dr. D.Y. Patil Sports Academy',\n",
    "                'Newlands' :'Newlands',\n",
    "                \"St George's Park\": \"St George's Park\",\n",
    "                'Kingsmead':'Kingsmead',\n",
    "                'SuperSport Park':'SuperSport Park',\n",
    "                'Buffalo Park':'Buffalo Park',\n",
    "                'New Wanderers Stadium':'New Wanderers Stadium',\n",
    "                'De Beers Diamond Oval':'De Beers Diamond Oval',\n",
    "                'Sardar Patel Stadium, Motera':'Narendra Modi Stadium',\n",
    "                'Barabati Stadium':'Barabati Stadium',\n",
    "                'Vidarbha Cricket Association Stadium, Jamtha': 'Vidarbha Cricket Association Jamtha Stadium',\n",
    "                'Himachal Pradesh Cricket Association Stadium':'Himachal Pradesh Cricket Association Stadium',\n",
    "                'Nehru Stadium':'Jawaharlal Nehru University Stadium',\n",
    "                'Holkar Cricket Stadium':'Holkar Cricket Stadium',\n",
    "                'Dr. Y.S. Rajasekhara Reddy ACA-VDCA Cricket Stadium' : 'Dr. Y.S. Rajasekhara Reddy ACA-VDCA Cricket Stadium',\n",
    "                'Subrata Roy Sahara Stadium' : 'Maharashtra Cricket Association Stadium',\n",
    "                'Maharashtra Cricket Association Stadium' :'Maharashtra Cricket Association Stadium',\n",
    "                'Maharashtra Cricket Association Stadium' :'Maharashtra Cricket Association Stadium',\n",
    "                'Shaheed Veer Narayan Singh International Stadium': 'Shaheed Veer Narayan Singh International Cricket Stadium',\n",
    "                'JSCA International Stadium Complex' : 'Jharkhand State Cricket Association International Cricket Stadium',\n",
    "                'Sheikh Zayed Stadium':'Sheikh Zayed Cricket Stadium',\n",
    "                'Sharjah Cricket Stadium' : 'Sharjah Cricket Stadium',\n",
    "                'Dubai International Cricket Stadium' : 'Dubai International Cricket Stadium',\n",
    "                'Punjab Cricket Association IS Bindra Stadium, Mohali': 'Inderjit Singh Bindra Stadium',\n",
    "                'Saurashtra Cricket Association Stadium': 'Khandheri Cricket Stadium',\n",
    "                'Green Park' : 'Green Park Cricket Stadium',\n",
    "                'M.Chinnaswamy Stadium' : 'Mangalam Chinnaswamy Stadium',\n",
    "                'MA Chidambaram Stadium': 'M.A. Chidambaram stadium',\n",
    "                'Arun Jaitley Stadium': 'Arun Jaitley Cricket Stadium',\n",
    "                'Rajiv Gandhi International Stadium':'Rajiv Gandhi International Stadium',\n",
    "                'Punjab Cricket Association IS Bindra Stadium': 'Inderjit Singh Bindra Stadium',\n",
    "                'MA Chidambaram Stadium, Chepauk, Chennai': 'M.A. Chidambaram stadium',\n",
    "                'Wankhede Stadium, Mumbai': 'Sheshrao Krushnarao Wankhede Stadium',\n",
    "                'Narendra Modi Stadium, Ahmedabad':'Narendra Modi Stadium',\n",
    "                'Arun Jaitley Stadium, Delhi' : 'Arun Jaitley Cricket Stadium',\n",
    "                'Zayed Cricket Stadium, Abu Dhabi' : 'Sheikh Zayed Cricket Stadium',\n",
    "                'Dr DY Patil Sports Academy, Mumbai' : 'Dr. D.Y. Patil Sports Academy',\n",
    "                'Maharashtra Cricket Association Stadium, Pune' :'Maharashtra Cricket Association Stadium',\n",
    "                'Eden Gardens, Kolkata': 'Eden Gardens',\n",
    "                'OUTsurance Oval': 'Mangaung Oval',\n",
    "                'Brabourne Stadium, Mumbai':'Brabourne Stadium, Mumbai'\n",
    "               }\n",
    "## Match Dataset\n",
    "# Map the values of stadium column to actual_name_stadium\n",
    "df['actual_name_stadium'] = df['stadium'].map(actual_name_stadium)\n",
    "\n",
    "## Match info\n",
    "# Map the values of stadium column to actual_name_stadium\n",
    "df_info['actual_name_stadium'] = df_info['stadium'].map(actual_name_stadium)"
   ]
  },
  {
   "cell_type": "markdown",
   "id": "254a5885",
   "metadata": {
    "papermill": {
     "duration": 0.02273,
     "end_time": "2023-05-03T18:05:09.160597",
     "exception": false,
     "start_time": "2023-05-03T18:05:09.137867",
     "status": "completed"
    },
    "tags": []
   },
   "source": [
    "<a id=\"section-two-one\"></a>\n",
    "\n",
    "<div style=\"color:white;display:fill;border-radius:8px;\n",
    "            background-color:#0E1585;font-size:150%;\n",
    "            font-family:Nexa;letter-spacing:0.5px\">\n",
    "    <p style=\"padding: 8px;color:white;\"><b>2.12 | Converting the column 'date' from string into datetime object</b></p>\n",
    "</div>"
   ]
  },
  {
   "cell_type": "code",
   "execution_count": 17,
   "id": "d2148dea",
   "metadata": {
    "execution": {
     "iopub.execute_input": "2023-05-03T18:05:09.207873Z",
     "iopub.status.busy": "2023-05-03T18:05:09.206538Z",
     "iopub.status.idle": "2023-05-03T18:05:11.504262Z",
     "shell.execute_reply": "2023-05-03T18:05:11.502929Z"
    },
    "papermill": {
     "duration": 2.323008,
     "end_time": "2023-05-03T18:05:11.507239",
     "exception": false,
     "start_time": "2023-05-03T18:05:09.184231",
     "status": "completed"
    },
    "tags": []
   },
   "outputs": [],
   "source": [
    "## Match Dataset\n",
    "# Converting the column 'date' from string into datetime object\n",
    "df['start_date'] = df['start_date'].apply(lambda x: datetime.strptime(x, '%Y-%m-%d'))\n",
    "\n",
    "## Match info\n",
    "# Converting the column 'date' from string into datetime object\n",
    "df_info['date'] = df_info['date'].apply(lambda x: datetime.strptime(x, '%Y-%m-%d'))"
   ]
  },
  {
   "cell_type": "markdown",
   "id": "c610fa50",
   "metadata": {
    "papermill": {
     "duration": 0.020564,
     "end_time": "2023-05-03T18:05:11.548768",
     "exception": false,
     "start_time": "2023-05-03T18:05:11.528204",
     "status": "completed"
    },
    "tags": []
   },
   "source": [
    "<a id=\"section-two-one\"></a>\n",
    "\n",
    "<div style=\"color:white;display:fill;border-radius:8px;\n",
    "            background-color:#0E1585;font-size:150%;\n",
    "            font-family:Nexa;letter-spacing:0.5px\">\n",
    "    <p style=\"padding: 8px;color:white;\"><b>2.13 | creating a column of 'total_run' to calculate total run</b></p>\n",
    "</div>"
   ]
  },
  {
   "cell_type": "code",
   "execution_count": 18,
   "id": "d3b98b4d",
   "metadata": {
    "execution": {
     "iopub.execute_input": "2023-05-03T18:05:11.591882Z",
     "iopub.status.busy": "2023-05-03T18:05:11.591451Z",
     "iopub.status.idle": "2023-05-03T18:05:11.598644Z",
     "shell.execute_reply": "2023-05-03T18:05:11.597610Z"
    },
    "papermill": {
     "duration": 0.031605,
     "end_time": "2023-05-03T18:05:11.601052",
     "exception": false,
     "start_time": "2023-05-03T18:05:11.569447",
     "status": "completed"
    },
    "tags": []
   },
   "outputs": [],
   "source": [
    "#calculate total_run\n",
    "df['total_run'] = df['runs_off_bat'] +df['extras']"
   ]
  },
  {
   "cell_type": "markdown",
   "id": "97fe6f4a",
   "metadata": {
    "papermill": {
     "duration": 0.020462,
     "end_time": "2023-05-03T18:05:11.642573",
     "exception": false,
     "start_time": "2023-05-03T18:05:11.622111",
     "status": "completed"
    },
    "tags": []
   },
   "source": [
    "<a id=\"section-two-one\"></a>\n",
    "\n",
    "<div style=\"color:white;display:fill;border-radius:8px;\n",
    "            background-color:#0E1585;font-size:150%;\n",
    "            font-family:Nexa;letter-spacing:0.5px\">\n",
    "    <p style=\"padding: 8px;color:white;\"><b>2.14 | Creating a column of final_total_runs</b></p>\n",
    "</div>\n",
    "Here, we do not have the final total runs of the match. Let's create a column to capture the final runs of the match for a specific inning."
   ]
  },
  {
   "cell_type": "code",
   "execution_count": 19,
   "id": "502e6e3c",
   "metadata": {
    "execution": {
     "iopub.execute_input": "2023-05-03T18:05:11.686321Z",
     "iopub.status.busy": "2023-05-03T18:05:11.685915Z",
     "iopub.status.idle": "2023-05-03T18:05:15.730406Z",
     "shell.execute_reply": "2023-05-03T18:05:15.729033Z"
    },
    "papermill": {
     "duration": 4.069914,
     "end_time": "2023-05-03T18:05:15.733287",
     "exception": false,
     "start_time": "2023-05-03T18:05:11.663373",
     "status": "completed"
    },
    "tags": []
   },
   "outputs": [],
   "source": [
    "#create a new column called final_total_runs\n",
    "df['final_total_runs'] = 0\n",
    "\n",
    "# group by match_id and innings, and sum the total runs\n",
    "total_runs = df.groupby(['match_id', 'innings'])['total_run'].sum().reset_index()\n",
    "\n",
    "# loop through each row in total_runs\n",
    "for i, row in total_runs.iterrows():\n",
    "    # find the corresponding rows in the main dataframe and update the final_total_runs column\n",
    "    df.loc[(df['match_id'] == row['match_id']) & (df['innings'] == row['innings']), 'final_total_runs'] = row['total_run']"
   ]
  },
  {
   "cell_type": "markdown",
   "id": "98aaf531",
   "metadata": {
    "papermill": {
     "duration": 0.020561,
     "end_time": "2023-05-03T18:05:15.774847",
     "exception": false,
     "start_time": "2023-05-03T18:05:15.754286",
     "status": "completed"
    },
    "tags": []
   },
   "source": [
    "<a id=\"section-two-one\"></a>\n",
    "\n",
    "<div style=\"color:white;display:fill;border-radius:8px;\n",
    "            background-color:#0E1585;font-size:150%;\n",
    "            font-family:Nexa;letter-spacing:0.5px\">\n",
    "    <p style=\"padding: 8px;color:white;\"><b>2.15 | Create a new column \"is_wicket\" based on \"wicket_type\"</b></p>\n",
    "</div>"
   ]
  },
  {
   "cell_type": "code",
   "execution_count": 20,
   "id": "8b551654",
   "metadata": {
    "execution": {
     "iopub.execute_input": "2023-05-03T18:05:15.818485Z",
     "iopub.status.busy": "2023-05-03T18:05:15.817997Z",
     "iopub.status.idle": "2023-05-03T18:05:16.058133Z",
     "shell.execute_reply": "2023-05-03T18:05:16.056871Z"
    },
    "papermill": {
     "duration": 0.265569,
     "end_time": "2023-05-03T18:05:16.061157",
     "exception": false,
     "start_time": "2023-05-03T18:05:15.795588",
     "status": "completed"
    },
    "tags": []
   },
   "outputs": [],
   "source": [
    "# Create a new column \"is_wicket\" based on \"wicket_type\"\n",
    "df['is_wicket'] = df['wicket_type'].apply(lambda x: 1 if pd.notnull(x) and x != '' else 0)\n",
    "\n",
    "# df[['wicket_type', 'is_wicket']].head()\n",
    "# df[df['wicket_type'] != 'caught'][['wicket_type', 'is_wicket']].head()\n",
    "# df[df['wicket_type'].notna()][['wicket_type', 'is_wicket']].head()"
   ]
  },
  {
   "cell_type": "markdown",
   "id": "05bd6751",
   "metadata": {
    "papermill": {
     "duration": 0.020775,
     "end_time": "2023-05-03T18:05:16.102747",
     "exception": false,
     "start_time": "2023-05-03T18:05:16.081972",
     "status": "completed"
    },
    "tags": []
   },
   "source": [
    "<a id=\"section-two-one\"></a>\n",
    "\n",
    "<div style=\"color:white;display:fill;border-radius:8px;\n",
    "            background-color:#0E1585;font-size:150%;\n",
    "            font-family:Nexa;letter-spacing:0.5px\">\n",
    "    <p style=\"padding: 8px;color:white;\"><b>2.16 | Creating column 'wickets' and 'runs' to calculate total runs and wickets till particular over</b></p>\n",
    "</div>"
   ]
  },
  {
   "cell_type": "code",
   "execution_count": 21,
   "id": "335079fa",
   "metadata": {
    "execution": {
     "iopub.execute_input": "2023-05-03T18:05:16.148189Z",
     "iopub.status.busy": "2023-05-03T18:05:16.147754Z",
     "iopub.status.idle": "2023-05-03T18:05:16.171121Z",
     "shell.execute_reply": "2023-05-03T18:05:16.169861Z"
    },
    "papermill": {
     "duration": 0.04954,
     "end_time": "2023-05-03T18:05:16.174270",
     "exception": false,
     "start_time": "2023-05-03T18:05:16.124730",
     "status": "completed"
    },
    "tags": []
   },
   "outputs": [],
   "source": [
    "# Let's group the dataframe by match_id and innings\n",
    "grouped = df.groupby([\"match_id\", \"innings\"])\n",
    "\n",
    "# Let's calculate the cumulative sum of wickets, runs, and balls\n",
    "df[\"wickets\"] = grouped[\"is_wicket\"].cumsum()\n",
    "df[\"runs\"] = grouped[\"total_run\"].cumsum()\n",
    "# df[['match_id','is_wicket','wickets','total_run', 'runs','over']].head(15)"
   ]
  },
  {
   "cell_type": "code",
   "execution_count": 22,
   "id": "4ac07717",
   "metadata": {
    "execution": {
     "iopub.execute_input": "2023-05-03T18:05:16.218594Z",
     "iopub.status.busy": "2023-05-03T18:05:16.218150Z",
     "iopub.status.idle": "2023-05-03T18:05:16.371062Z",
     "shell.execute_reply": "2023-05-03T18:05:16.369705Z"
    },
    "papermill": {
     "duration": 0.178137,
     "end_time": "2023-05-03T18:05:16.373796",
     "exception": false,
     "start_time": "2023-05-03T18:05:16.195659",
     "status": "completed"
    },
    "tags": []
   },
   "outputs": [
    {
     "data": {
      "text/html": [
       "<div>\n",
       "<style scoped>\n",
       "    .dataframe tbody tr th:only-of-type {\n",
       "        vertical-align: middle;\n",
       "    }\n",
       "\n",
       "    .dataframe tbody tr th {\n",
       "        vertical-align: top;\n",
       "    }\n",
       "\n",
       "    .dataframe thead th {\n",
       "        text-align: right;\n",
       "    }\n",
       "</style>\n",
       "<table border=\"1\" class=\"dataframe\">\n",
       "  <thead>\n",
       "    <tr style=\"text-align: right;\">\n",
       "      <th></th>\n",
       "      <th>match_id</th>\n",
       "      <th>stadium</th>\n",
       "      <th>venue</th>\n",
       "      <th>actual_name_stadium</th>\n",
       "    </tr>\n",
       "  </thead>\n",
       "  <tbody>\n",
       "    <tr>\n",
       "      <th>122075</th>\n",
       "      <td>829821</td>\n",
       "      <td>JSCA International Stadium Complex</td>\n",
       "      <td>Ranchi</td>\n",
       "      <td>Jharkhand State Cricket Association Internatio...</td>\n",
       "    </tr>\n",
       "    <tr>\n",
       "      <th>206959</th>\n",
       "      <td>1254101</td>\n",
       "      <td>Dubai International Cricket Stadium</td>\n",
       "      <td>Dubai, UAE</td>\n",
       "      <td>Dubai International Cricket Stadium</td>\n",
       "    </tr>\n",
       "    <tr>\n",
       "      <th>173989</th>\n",
       "      <td>1178414</td>\n",
       "      <td>M.Chinnaswamy Stadium</td>\n",
       "      <td>Bengaluru</td>\n",
       "      <td>Mangalam Chinnaswamy Stadium</td>\n",
       "    </tr>\n",
       "    <tr>\n",
       "      <th>201038</th>\n",
       "      <td>1254087</td>\n",
       "      <td>Zayed Cricket Stadium, Abu Dhabi</td>\n",
       "      <td>Abu Dhabi, UAE</td>\n",
       "      <td>Sheikh Zayed Cricket Stadium</td>\n",
       "    </tr>\n",
       "    <tr>\n",
       "      <th>99106</th>\n",
       "      <td>729317</td>\n",
       "      <td>Dubai International Cricket Stadium</td>\n",
       "      <td>Dubai, UAE</td>\n",
       "      <td>Dubai International Cricket Stadium</td>\n",
       "    </tr>\n",
       "    <tr>\n",
       "      <th>59584</th>\n",
       "      <td>548311</td>\n",
       "      <td>Dr. Y.S. Rajasekhara Reddy ACA-VDCA Cricket St...</td>\n",
       "      <td>Visakhapatnam</td>\n",
       "      <td>Dr. Y.S. Rajasekhara Reddy ACA-VDCA Cricket St...</td>\n",
       "    </tr>\n",
       "    <tr>\n",
       "      <th>54018</th>\n",
       "      <td>501250</td>\n",
       "      <td>Rajiv Gandhi International Stadium, Uppal</td>\n",
       "      <td>Hyderabad</td>\n",
       "      <td>Rajiv Gandhi International Stadium</td>\n",
       "    </tr>\n",
       "    <tr>\n",
       "      <th>66420</th>\n",
       "      <td>548341</td>\n",
       "      <td>Subrata Roy Sahara Stadium</td>\n",
       "      <td>Pune</td>\n",
       "      <td>Maharashtra Cricket Association Stadium</td>\n",
       "    </tr>\n",
       "    <tr>\n",
       "      <th>49714</th>\n",
       "      <td>501233</td>\n",
       "      <td>Nehru Stadium</td>\n",
       "      <td>Delhi</td>\n",
       "      <td>Jawaharlal Nehru University Stadium</td>\n",
       "    </tr>\n",
       "    <tr>\n",
       "      <th>95448</th>\n",
       "      <td>729285</td>\n",
       "      <td>Sheikh Zayed Stadium</td>\n",
       "      <td>Abu Dhabi, UAE</td>\n",
       "      <td>Sheikh Zayed Cricket Stadium</td>\n",
       "    </tr>\n",
       "    <tr>\n",
       "      <th>52678</th>\n",
       "      <td>501245</td>\n",
       "      <td>Eden Gardens</td>\n",
       "      <td>Kolkata</td>\n",
       "      <td>Eden Gardens</td>\n",
       "    </tr>\n",
       "    <tr>\n",
       "      <th>115348</th>\n",
       "      <td>829765</td>\n",
       "      <td>MA Chidambaram Stadium, Chepauk</td>\n",
       "      <td>Chennai</td>\n",
       "      <td>M.A. Chidambaram stadium</td>\n",
       "    </tr>\n",
       "    <tr>\n",
       "      <th>172057</th>\n",
       "      <td>1136618</td>\n",
       "      <td>Eden Gardens</td>\n",
       "      <td>Kolkata</td>\n",
       "      <td>Eden Gardens</td>\n",
       "    </tr>\n",
       "    <tr>\n",
       "      <th>143185</th>\n",
       "      <td>1082618</td>\n",
       "      <td>Wankhede Stadium</td>\n",
       "      <td>Mumbai</td>\n",
       "      <td>Sheshrao Krushnarao Wankhede Stadium</td>\n",
       "    </tr>\n",
       "    <tr>\n",
       "      <th>151520</th>\n",
       "      <td>1175360</td>\n",
       "      <td>Arun Jaitley Stadium</td>\n",
       "      <td>Delhi</td>\n",
       "      <td>Arun Jaitley Cricket Stadium</td>\n",
       "    </tr>\n",
       "  </tbody>\n",
       "</table>\n",
       "</div>"
      ],
      "text/plain": [
       "        match_id                                            stadium  \\\n",
       "122075    829821                 JSCA International Stadium Complex   \n",
       "206959   1254101                Dubai International Cricket Stadium   \n",
       "173989   1178414                              M.Chinnaswamy Stadium   \n",
       "201038   1254087                   Zayed Cricket Stadium, Abu Dhabi   \n",
       "99106     729317                Dubai International Cricket Stadium   \n",
       "59584     548311  Dr. Y.S. Rajasekhara Reddy ACA-VDCA Cricket St...   \n",
       "54018     501250          Rajiv Gandhi International Stadium, Uppal   \n",
       "66420     548341                         Subrata Roy Sahara Stadium   \n",
       "49714     501233                                      Nehru Stadium   \n",
       "95448     729285                               Sheikh Zayed Stadium   \n",
       "52678     501245                                       Eden Gardens   \n",
       "115348    829765                    MA Chidambaram Stadium, Chepauk   \n",
       "172057   1136618                                       Eden Gardens   \n",
       "143185   1082618                                   Wankhede Stadium   \n",
       "151520   1175360                               Arun Jaitley Stadium   \n",
       "\n",
       "                 venue                                actual_name_stadium  \n",
       "122075          Ranchi  Jharkhand State Cricket Association Internatio...  \n",
       "206959      Dubai, UAE                Dubai International Cricket Stadium  \n",
       "173989       Bengaluru                       Mangalam Chinnaswamy Stadium  \n",
       "201038  Abu Dhabi, UAE                       Sheikh Zayed Cricket Stadium  \n",
       "99106       Dubai, UAE                Dubai International Cricket Stadium  \n",
       "59584    Visakhapatnam  Dr. Y.S. Rajasekhara Reddy ACA-VDCA Cricket St...  \n",
       "54018        Hyderabad                 Rajiv Gandhi International Stadium  \n",
       "66420             Pune            Maharashtra Cricket Association Stadium  \n",
       "49714            Delhi                Jawaharlal Nehru University Stadium  \n",
       "95448   Abu Dhabi, UAE                       Sheikh Zayed Cricket Stadium  \n",
       "52678          Kolkata                                       Eden Gardens  \n",
       "115348         Chennai                           M.A. Chidambaram stadium  \n",
       "172057         Kolkata                                       Eden Gardens  \n",
       "143185          Mumbai               Sheshrao Krushnarao Wankhede Stadium  \n",
       "151520           Delhi                       Arun Jaitley Cricket Stadium  "
      ]
     },
     "execution_count": 22,
     "metadata": {},
     "output_type": "execute_result"
    }
   ],
   "source": [
    "df[['match_id','stadium','venue', 'actual_name_stadium']].sample(15)"
   ]
  },
  {
   "cell_type": "code",
   "execution_count": 23,
   "id": "47885e76",
   "metadata": {
    "execution": {
     "iopub.execute_input": "2023-05-03T18:05:16.418853Z",
     "iopub.status.busy": "2023-05-03T18:05:16.418393Z",
     "iopub.status.idle": "2023-05-03T18:05:16.427158Z",
     "shell.execute_reply": "2023-05-03T18:05:16.425970Z"
    },
    "papermill": {
     "duration": 0.034125,
     "end_time": "2023-05-03T18:05:16.429717",
     "exception": false,
     "start_time": "2023-05-03T18:05:16.395592",
     "status": "completed"
    },
    "tags": []
   },
   "outputs": [
    {
     "name": "stdout",
     "output_type": "stream",
     "text": [
      "-------- Match Dataset --------\n",
      "Total No. of columns: 31\n"
     ]
    },
    {
     "data": {
      "text/plain": [
       "Index(['match_id', 'season', 'start_date', 'stadium', 'innings', 'over',\n",
       "       'batting_team', 'bowling_team', 'striker', 'non_striker', 'bowler',\n",
       "       'runs_off_bat', 'extras', 'wides', 'noballs', 'byes', 'legbyes',\n",
       "       'penalty', 'wicket_type', 'player_dismissed', 'other_wicket_type',\n",
       "       'other_player_dismissed', 'batting_team_short_name',\n",
       "       'bowling_team_short_name', 'venue', 'actual_name_stadium', 'total_run',\n",
       "       'final_total_runs', 'is_wicket', 'wickets', 'runs'],\n",
       "      dtype='object')"
      ]
     },
     "execution_count": 23,
     "metadata": {},
     "output_type": "execute_result"
    }
   ],
   "source": [
    "print(\"-------- Match Dataset --------\")\n",
    "print(\"Total No. of columns:\", len(df.columns))\n",
    "df.columns"
   ]
  },
  {
   "cell_type": "code",
   "execution_count": 24,
   "id": "b0eb6768",
   "metadata": {
    "execution": {
     "iopub.execute_input": "2023-05-03T18:05:16.474713Z",
     "iopub.status.busy": "2023-05-03T18:05:16.473778Z",
     "iopub.status.idle": "2023-05-03T18:05:16.484078Z",
     "shell.execute_reply": "2023-05-03T18:05:16.482783Z"
    },
    "papermill": {
     "duration": 0.035803,
     "end_time": "2023-05-03T18:05:16.486709",
     "exception": false,
     "start_time": "2023-05-03T18:05:16.450906",
     "status": "completed"
    },
    "tags": []
   },
   "outputs": [
    {
     "name": "stdout",
     "output_type": "stream",
     "text": [
      "-------- Match info --------\n",
      "Total No. of columns: 29\n"
     ]
    },
    {
     "data": {
      "text/plain": [
       "Index(['match_id', 'season', 'date', 'city', 'stadium', 'team1', 'team2',\n",
       "       'toss_winner', 'toss_decision', 'player_of_match', 'winner',\n",
       "       'winner_wickets', 'winner_runs', 'outcome', 'result_type', 'results',\n",
       "       'gender', 'event', 'match_number', 'umpire1', 'umpire2',\n",
       "       'reserve_umpire', 'tv_umpire', 'match_referee', 'eliminator', 'method',\n",
       "       'date_1', 'venue', 'actual_name_stadium'],\n",
       "      dtype='object')"
      ]
     },
     "execution_count": 24,
     "metadata": {},
     "output_type": "execute_result"
    }
   ],
   "source": [
    "print(\"-------- Match info --------\")\n",
    "print(\"Total No. of columns:\", len(df_info.columns))\n",
    "df_info.columns"
   ]
  },
  {
   "cell_type": "code",
   "execution_count": 25,
   "id": "eb7c9857",
   "metadata": {
    "execution": {
     "iopub.execute_input": "2023-05-03T18:05:16.532109Z",
     "iopub.status.busy": "2023-05-03T18:05:16.531289Z",
     "iopub.status.idle": "2023-05-03T18:05:16.575155Z",
     "shell.execute_reply": "2023-05-03T18:05:16.573756Z"
    },
    "papermill": {
     "duration": 0.069332,
     "end_time": "2023-05-03T18:05:16.577616",
     "exception": false,
     "start_time": "2023-05-03T18:05:16.508284",
     "status": "completed"
    },
    "tags": []
   },
   "outputs": [
    {
     "name": "stdout",
     "output_type": "stream",
     "text": [
      "-------- Match Dataset --------\n",
      "Total No. of columns: 31\n"
     ]
    },
    {
     "data": {
      "text/plain": [
       "Index(['match_id', 'season', 'start_date', 'stadium', 'actual_name_stadium',\n",
       "       'venue', 'innings', 'over', 'batting_team', 'batting_team_short_name',\n",
       "       'bowling_team', 'bowling_team_short_name', 'striker', 'non_striker',\n",
       "       'bowler', 'runs_off_bat', 'extras', 'total_run', 'final_total_runs',\n",
       "       'runs', 'wides', 'noballs', 'byes', 'legbyes', 'penalty', 'wicket_type',\n",
       "       'is_wicket', 'wickets', 'player_dismissed', 'other_wicket_type',\n",
       "       'other_player_dismissed'],\n",
       "      dtype='object')"
      ]
     },
     "execution_count": 25,
     "metadata": {},
     "output_type": "execute_result"
    }
   ],
   "source": [
    "df = df[['match_id', 'season', 'start_date', 'stadium', 'actual_name_stadium', 'venue', 'innings', 'over',\n",
    "         'batting_team', 'batting_team_short_name', 'bowling_team', 'bowling_team_short_name', 'striker', 'non_striker', 'bowler',\n",
    "         'runs_off_bat', 'extras', 'total_run', 'final_total_runs', 'runs', 'wides', 'noballs', 'byes', 'legbyes',\n",
    "         'penalty', 'wicket_type', 'is_wicket', 'wickets', 'player_dismissed', 'other_wicket_type',\n",
    "         'other_player_dismissed']]\n",
    "print(\"-------- Match Dataset --------\")\n",
    "print(\"Total No. of columns:\", len(df.columns))\n",
    "df.columns"
   ]
  },
  {
   "cell_type": "code",
   "execution_count": 26,
   "id": "2e8c7fcb",
   "metadata": {
    "execution": {
     "iopub.execute_input": "2023-05-03T18:05:16.623817Z",
     "iopub.status.busy": "2023-05-03T18:05:16.622434Z",
     "iopub.status.idle": "2023-05-03T18:05:16.636591Z",
     "shell.execute_reply": "2023-05-03T18:05:16.635467Z"
    },
    "papermill": {
     "duration": 0.039528,
     "end_time": "2023-05-03T18:05:16.638835",
     "exception": false,
     "start_time": "2023-05-03T18:05:16.599307",
     "status": "completed"
    },
    "tags": []
   },
   "outputs": [
    {
     "name": "stdout",
     "output_type": "stream",
     "text": [
      "-------- Match info --------\n",
      "Total No. of columns: 29\n"
     ]
    },
    {
     "data": {
      "text/plain": [
       "Index(['match_id', 'season', 'date', 'city', 'stadium', 'actual_name_stadium',\n",
       "       'venue', 'team1', 'team2', 'toss_winner', 'toss_decision',\n",
       "       'player_of_match', 'winner', 'winner_wickets', 'winner_runs', 'outcome',\n",
       "       'result_type', 'results', 'gender', 'event', 'match_number', 'umpire1',\n",
       "       'umpire2', 'reserve_umpire', 'tv_umpire', 'match_referee', 'eliminator',\n",
       "       'method', 'date_1'],\n",
       "      dtype='object')"
      ]
     },
     "execution_count": 26,
     "metadata": {},
     "output_type": "execute_result"
    }
   ],
   "source": [
    "df_info = df_info[['match_id', 'season', 'date', 'city', 'stadium','actual_name_stadium','venue', 'team1', 'team2',\n",
    "       'toss_winner', 'toss_decision', 'player_of_match', 'winner',\n",
    "       'winner_wickets', 'winner_runs', 'outcome', 'result_type', 'results',\n",
    "       'gender', 'event', 'match_number', 'umpire1', 'umpire2',\n",
    "       'reserve_umpire', 'tv_umpire', 'match_referee', 'eliminator', 'method',\n",
    "       'date_1']]\n",
    "print(\"-------- Match info --------\")\n",
    "print(\"Total No. of columns:\", len(df_info.columns))\n",
    "df_info.columns"
   ]
  },
  {
   "cell_type": "markdown",
   "id": "4661b39d",
   "metadata": {
    "papermill": {
     "duration": 0.021497,
     "end_time": "2023-05-03T18:05:16.682120",
     "exception": false,
     "start_time": "2023-05-03T18:05:16.660623",
     "status": "completed"
    },
    "tags": []
   },
   "source": [
    "<a id=\"section-two-one\"></a>\n",
    "\n",
    "<div style=\"color:white;display:fill;border-radius:8px;\n",
    "            background-color:#0E1585;font-size:150%;\n",
    "            font-family:Nexa;letter-spacing:0.5px\">\n",
    "    <p style=\"padding: 8px;color:white;\"><b>2.17 | Save the Datasets</b></p>\n",
    "</div>"
   ]
  },
  {
   "cell_type": "code",
   "execution_count": 27,
   "id": "9a664f8f",
   "metadata": {
    "execution": {
     "iopub.execute_input": "2023-05-03T18:05:16.728269Z",
     "iopub.status.busy": "2023-05-03T18:05:16.727021Z",
     "iopub.status.idle": "2023-05-03T18:05:20.033626Z",
     "shell.execute_reply": "2023-05-03T18:05:20.032495Z"
    },
    "papermill": {
     "duration": 3.332359,
     "end_time": "2023-05-03T18:05:20.036357",
     "exception": false,
     "start_time": "2023-05-03T18:05:16.703998",
     "status": "completed"
    },
    "tags": []
   },
   "outputs": [],
   "source": [
    "df.to_csv('match_data.csv', index=False)\n",
    "df_info.to_csv('match_info.csv', index=False)"
   ]
  },
  {
   "cell_type": "markdown",
   "id": "a4ff581b",
   "metadata": {
    "papermill": {
     "duration": 0.021405,
     "end_time": "2023-05-03T18:05:20.079756",
     "exception": false,
     "start_time": "2023-05-03T18:05:20.058351",
     "status": "completed"
    },
    "tags": []
   },
   "source": [
    "<a id=\"section-3\"></a>\n",
    "\n",
    "<div style=\"color:white;display:fill;border-radius:8px;\n",
    "            background-color:#0E1585;font-size:150%;\n",
    "            font-family:Nexa;letter-spacing:0.5px\">\n",
    "    <p style=\"padding: 8px;color:white;\"><b>3.0 | Model Training </b></p>\n",
    "</div>"
   ]
  },
  {
   "cell_type": "markdown",
   "id": "164d8b86",
   "metadata": {
    "papermill": {
     "duration": 0.021935,
     "end_time": "2023-05-03T18:05:20.126776",
     "exception": false,
     "start_time": "2023-05-03T18:05:20.104841",
     "status": "completed"
    },
    "tags": []
   },
   "source": [
    "<a id=\"section-two\"></a>\n",
    "\n",
    "<div style=\"color:white;display:fill;border-radius:8px;\n",
    "            background-color:#0E1585;font-size:150%;\n",
    "            font-family:Nexa;letter-spacing:0.5px\">\n",
    "    <p style=\"padding: 8px;color:white;\"><b>3.1 | Feature Selection and Removing unwanted columns </b></p>\n",
    "</div>"
   ]
  },
  {
   "cell_type": "code",
   "execution_count": 28,
   "id": "c887c665",
   "metadata": {
    "execution": {
     "iopub.execute_input": "2023-05-03T18:05:20.172599Z",
     "iopub.status.busy": "2023-05-03T18:05:20.172123Z",
     "iopub.status.idle": "2023-05-03T18:05:20.208438Z",
     "shell.execute_reply": "2023-05-03T18:05:20.207223Z"
    },
    "papermill": {
     "duration": 0.062272,
     "end_time": "2023-05-03T18:05:20.211139",
     "exception": false,
     "start_time": "2023-05-03T18:05:20.148867",
     "status": "completed"
    },
    "tags": []
   },
   "outputs": [
    {
     "data": {
      "text/html": [
       "<div>\n",
       "<style scoped>\n",
       "    .dataframe tbody tr th:only-of-type {\n",
       "        vertical-align: middle;\n",
       "    }\n",
       "\n",
       "    .dataframe tbody tr th {\n",
       "        vertical-align: top;\n",
       "    }\n",
       "\n",
       "    .dataframe thead th {\n",
       "        text-align: right;\n",
       "    }\n",
       "</style>\n",
       "<table border=\"1\" class=\"dataframe\">\n",
       "  <thead>\n",
       "    <tr style=\"text-align: right;\">\n",
       "      <th></th>\n",
       "      <th>batting_team</th>\n",
       "      <th>bowling_team</th>\n",
       "      <th>venue</th>\n",
       "      <th>innings</th>\n",
       "      <th>over</th>\n",
       "      <th>runs</th>\n",
       "      <th>wickets</th>\n",
       "      <th>final_total_runs</th>\n",
       "    </tr>\n",
       "  </thead>\n",
       "  <tbody>\n",
       "    <tr>\n",
       "      <th>0</th>\n",
       "      <td>Kolkata Knight Riders</td>\n",
       "      <td>Royal Challengers Bangalore</td>\n",
       "      <td>Bengaluru</td>\n",
       "      <td>1</td>\n",
       "      <td>0.1</td>\n",
       "      <td>1</td>\n",
       "      <td>0</td>\n",
       "      <td>222</td>\n",
       "    </tr>\n",
       "    <tr>\n",
       "      <th>1</th>\n",
       "      <td>Kolkata Knight Riders</td>\n",
       "      <td>Royal Challengers Bangalore</td>\n",
       "      <td>Bengaluru</td>\n",
       "      <td>1</td>\n",
       "      <td>0.2</td>\n",
       "      <td>1</td>\n",
       "      <td>0</td>\n",
       "      <td>222</td>\n",
       "    </tr>\n",
       "    <tr>\n",
       "      <th>2</th>\n",
       "      <td>Kolkata Knight Riders</td>\n",
       "      <td>Royal Challengers Bangalore</td>\n",
       "      <td>Bengaluru</td>\n",
       "      <td>1</td>\n",
       "      <td>0.3</td>\n",
       "      <td>2</td>\n",
       "      <td>0</td>\n",
       "      <td>222</td>\n",
       "    </tr>\n",
       "    <tr>\n",
       "      <th>3</th>\n",
       "      <td>Kolkata Knight Riders</td>\n",
       "      <td>Royal Challengers Bangalore</td>\n",
       "      <td>Bengaluru</td>\n",
       "      <td>1</td>\n",
       "      <td>0.4</td>\n",
       "      <td>2</td>\n",
       "      <td>0</td>\n",
       "      <td>222</td>\n",
       "    </tr>\n",
       "    <tr>\n",
       "      <th>4</th>\n",
       "      <td>Kolkata Knight Riders</td>\n",
       "      <td>Royal Challengers Bangalore</td>\n",
       "      <td>Bengaluru</td>\n",
       "      <td>1</td>\n",
       "      <td>0.5</td>\n",
       "      <td>2</td>\n",
       "      <td>0</td>\n",
       "      <td>222</td>\n",
       "    </tr>\n",
       "  </tbody>\n",
       "</table>\n",
       "</div>"
      ],
      "text/plain": [
       "            batting_team                 bowling_team      venue  innings  \\\n",
       "0  Kolkata Knight Riders  Royal Challengers Bangalore  Bengaluru        1   \n",
       "1  Kolkata Knight Riders  Royal Challengers Bangalore  Bengaluru        1   \n",
       "2  Kolkata Knight Riders  Royal Challengers Bangalore  Bengaluru        1   \n",
       "3  Kolkata Knight Riders  Royal Challengers Bangalore  Bengaluru        1   \n",
       "4  Kolkata Knight Riders  Royal Challengers Bangalore  Bengaluru        1   \n",
       "\n",
       "   over  runs  wickets  final_total_runs  \n",
       "0   0.1     1        0               222  \n",
       "1   0.2     1        0               222  \n",
       "2   0.3     2        0               222  \n",
       "3   0.4     2        0               222  \n",
       "4   0.5     2        0               222  "
      ]
     },
     "execution_count": 28,
     "metadata": {},
     "output_type": "execute_result"
    }
   ],
   "source": [
    "# Removing unwanted columns and rearranging columns\n",
    "columns_to_remove = ['match_id', 'season', 'striker', 'non_striker', 'bowler',\n",
    "                     'runs_off_bat', 'extras', 'wides', 'noballs', 'byes', 'legbyes',\n",
    "                     'penalty', 'wicket_type', 'player_dismissed', 'other_wicket_type',\n",
    "                     'other_player_dismissed', 'batting_team_short_name','start_date',\n",
    "                     'bowling_team_short_name', 'total_run', 'is_wicket', 'stadium', 'actual_name_stadium']\n",
    "\n",
    "df1 = df.drop(columns=columns_to_remove)[[\"batting_team\", \"bowling_team\", \"venue\",\n",
    "                                          \"innings\", \"over\", \"runs\", \"wickets\", \"final_total_runs\"]]\n",
    "df1.head()\n"
   ]
  },
  {
   "cell_type": "markdown",
   "id": "5a4cb62f",
   "metadata": {
    "papermill": {
     "duration": 0.021751,
     "end_time": "2023-05-03T18:05:20.254827",
     "exception": false,
     "start_time": "2023-05-03T18:05:20.233076",
     "status": "completed"
    },
    "tags": []
   },
   "source": [
    "<a id=\"section-two\"></a>\n",
    "\n",
    "<div style=\"color:white;display:fill;border-radius:8px;\n",
    "            background-color:#0E1585;font-size:150%;\n",
    "            font-family:Nexa;letter-spacing:0.5px\">\n",
    "    <p style=\"padding: 8px;color:white;\"><b>3.2 | Feature Encoding </b></p>\n",
    "</div>"
   ]
  },
  {
   "cell_type": "code",
   "execution_count": 29,
   "id": "3884b379",
   "metadata": {
    "execution": {
     "iopub.execute_input": "2023-05-03T18:05:20.301161Z",
     "iopub.status.busy": "2023-05-03T18:05:20.300071Z",
     "iopub.status.idle": "2023-05-03T18:05:20.353876Z",
     "shell.execute_reply": "2023-05-03T18:05:20.352520Z"
    },
    "papermill": {
     "duration": 0.079905,
     "end_time": "2023-05-03T18:05:20.356723",
     "exception": false,
     "start_time": "2023-05-03T18:05:20.276818",
     "status": "completed"
    },
    "tags": []
   },
   "outputs": [
    {
     "data": {
      "text/plain": [
       "{'Kolkata Knight Riders': 0,\n",
       " 'Royal Challengers Bangalore': 1,\n",
       " 'Chennai Super Kings': 2,\n",
       " 'Punjab Kings': 3,\n",
       " 'Rajasthan Royals': 4,\n",
       " 'Delhi Capitals': 5,\n",
       " 'Sunrisers Hyderabad': 6,\n",
       " 'Mumbai Indians': 7,\n",
       " 'Kochi Tuskers Kerala': 8,\n",
       " 'Rising Pune Supergiants': 9,\n",
       " 'Gujarat Titans': 10,\n",
       " 'Lucknow Super Giants': 11}"
      ]
     },
     "execution_count": 29,
     "metadata": {},
     "output_type": "execute_result"
    }
   ],
   "source": [
    "encoded_teams = {k:v for v, k in enumerate(df1['batting_team'].append(df1['bowling_team']).unique(), 0)}\n",
    "encoded_teams"
   ]
  },
  {
   "cell_type": "code",
   "execution_count": 30,
   "id": "7287dad3",
   "metadata": {
    "execution": {
     "iopub.execute_input": "2023-05-03T18:05:20.404352Z",
     "iopub.status.busy": "2023-05-03T18:05:20.403958Z",
     "iopub.status.idle": "2023-05-03T18:05:20.465733Z",
     "shell.execute_reply": "2023-05-03T18:05:20.464510Z"
    },
    "papermill": {
     "duration": 0.088597,
     "end_time": "2023-05-03T18:05:20.468476",
     "exception": false,
     "start_time": "2023-05-03T18:05:20.379879",
     "status": "completed"
    },
    "tags": []
   },
   "outputs": [
    {
     "data": {
      "text/html": [
       "<div>\n",
       "<style scoped>\n",
       "    .dataframe tbody tr th:only-of-type {\n",
       "        vertical-align: middle;\n",
       "    }\n",
       "\n",
       "    .dataframe tbody tr th {\n",
       "        vertical-align: top;\n",
       "    }\n",
       "\n",
       "    .dataframe thead th {\n",
       "        text-align: right;\n",
       "    }\n",
       "</style>\n",
       "<table border=\"1\" class=\"dataframe\">\n",
       "  <thead>\n",
       "    <tr style=\"text-align: right;\">\n",
       "      <th></th>\n",
       "      <th>batting_team</th>\n",
       "      <th>bowling_team</th>\n",
       "      <th>venue</th>\n",
       "      <th>innings</th>\n",
       "      <th>over</th>\n",
       "      <th>runs</th>\n",
       "      <th>wickets</th>\n",
       "      <th>final_total_runs</th>\n",
       "    </tr>\n",
       "  </thead>\n",
       "  <tbody>\n",
       "    <tr>\n",
       "      <th>206091</th>\n",
       "      <td>1</td>\n",
       "      <td>6</td>\n",
       "      <td>Abu Dhabi, UAE</td>\n",
       "      <td>2</td>\n",
       "      <td>16.3</td>\n",
       "      <td>108</td>\n",
       "      <td>4</td>\n",
       "      <td>137</td>\n",
       "    </tr>\n",
       "    <tr>\n",
       "      <th>26250</th>\n",
       "      <td>7</td>\n",
       "      <td>5</td>\n",
       "      <td>Centurion, South Africa</td>\n",
       "      <td>1</td>\n",
       "      <td>18.1</td>\n",
       "      <td>148</td>\n",
       "      <td>5</td>\n",
       "      <td>165</td>\n",
       "    </tr>\n",
       "    <tr>\n",
       "      <th>78190</th>\n",
       "      <td>0</td>\n",
       "      <td>4</td>\n",
       "      <td>Jaipur</td>\n",
       "      <td>2</td>\n",
       "      <td>1.7</td>\n",
       "      <td>17</td>\n",
       "      <td>0</td>\n",
       "      <td>125</td>\n",
       "    </tr>\n",
       "    <tr>\n",
       "      <th>202378</th>\n",
       "      <td>3</td>\n",
       "      <td>6</td>\n",
       "      <td>Sharjah, UAE</td>\n",
       "      <td>1</td>\n",
       "      <td>14.1</td>\n",
       "      <td>85</td>\n",
       "      <td>4</td>\n",
       "      <td>125</td>\n",
       "    </tr>\n",
       "    <tr>\n",
       "      <th>99329</th>\n",
       "      <td>2</td>\n",
       "      <td>0</td>\n",
       "      <td>Ranchi</td>\n",
       "      <td>1</td>\n",
       "      <td>2.5</td>\n",
       "      <td>20</td>\n",
       "      <td>1</td>\n",
       "      <td>148</td>\n",
       "    </tr>\n",
       "    <tr>\n",
       "      <th>58113</th>\n",
       "      <td>1</td>\n",
       "      <td>7</td>\n",
       "      <td>Chennai</td>\n",
       "      <td>1</td>\n",
       "      <td>0.3</td>\n",
       "      <td>6</td>\n",
       "      <td>0</td>\n",
       "      <td>185</td>\n",
       "    </tr>\n",
       "    <tr>\n",
       "      <th>173560</th>\n",
       "      <td>3</td>\n",
       "      <td>5</td>\n",
       "      <td>Delhi</td>\n",
       "      <td>1</td>\n",
       "      <td>13.1</td>\n",
       "      <td>107</td>\n",
       "      <td>5</td>\n",
       "      <td>163</td>\n",
       "    </tr>\n",
       "    <tr>\n",
       "      <th>70723</th>\n",
       "      <td>9</td>\n",
       "      <td>4</td>\n",
       "      <td>Pune</td>\n",
       "      <td>1</td>\n",
       "      <td>18.3</td>\n",
       "      <td>119</td>\n",
       "      <td>5</td>\n",
       "      <td>125</td>\n",
       "    </tr>\n",
       "    <tr>\n",
       "      <th>128018</th>\n",
       "      <td>7</td>\n",
       "      <td>0</td>\n",
       "      <td>Mumbai</td>\n",
       "      <td>2</td>\n",
       "      <td>0.5</td>\n",
       "      <td>8</td>\n",
       "      <td>0</td>\n",
       "      <td>178</td>\n",
       "    </tr>\n",
       "    <tr>\n",
       "      <th>135283</th>\n",
       "      <td>6</td>\n",
       "      <td>0</td>\n",
       "      <td>Kolkata</td>\n",
       "      <td>2</td>\n",
       "      <td>3.4</td>\n",
       "      <td>28</td>\n",
       "      <td>1</td>\n",
       "      <td>149</td>\n",
       "    </tr>\n",
       "  </tbody>\n",
       "</table>\n",
       "</div>"
      ],
      "text/plain": [
       "        batting_team  bowling_team                    venue  innings  over  \\\n",
       "206091             1             6           Abu Dhabi, UAE        2  16.3   \n",
       "26250              7             5  Centurion, South Africa        1  18.1   \n",
       "78190              0             4                   Jaipur        2   1.7   \n",
       "202378             3             6             Sharjah, UAE        1  14.1   \n",
       "99329              2             0                   Ranchi        1   2.5   \n",
       "58113              1             7                  Chennai        1   0.3   \n",
       "173560             3             5                    Delhi        1  13.1   \n",
       "70723              9             4                     Pune        1  18.3   \n",
       "128018             7             0                   Mumbai        2   0.5   \n",
       "135283             6             0                  Kolkata        2   3.4   \n",
       "\n",
       "        runs  wickets  final_total_runs  \n",
       "206091   108        4               137  \n",
       "26250    148        5               165  \n",
       "78190     17        0               125  \n",
       "202378    85        4               125  \n",
       "99329     20        1               148  \n",
       "58113      6        0               185  \n",
       "173560   107        5               163  \n",
       "70723    119        5               125  \n",
       "128018     8        0               178  \n",
       "135283    28        1               149  "
      ]
     },
     "execution_count": 30,
     "metadata": {},
     "output_type": "execute_result"
    }
   ],
   "source": [
    "df1['batting_team'] = df1['batting_team'].map(encoded_teams)\n",
    "df1['bowling_team'] = df1['bowling_team'].map(encoded_teams)\n",
    "df1.sample(10)"
   ]
  },
  {
   "cell_type": "markdown",
   "id": "595e1f63",
   "metadata": {
    "papermill": {
     "duration": 0.022278,
     "end_time": "2023-05-03T18:05:20.513525",
     "exception": false,
     "start_time": "2023-05-03T18:05:20.491247",
     "status": "completed"
    },
    "tags": []
   },
   "source": [
    "<a id=\"section-two\"></a>\n",
    "\n",
    "<div style=\"color:white;display:fill;border-radius:8px;\n",
    "            background-color:#0E1585;font-size:150%;\n",
    "            font-family:Nexa;letter-spacing:0.5px\">\n",
    "    <p style=\"padding: 8px;color:white;\"><b>3.3 | Preparing X and Y variables </b></p>\n",
    "</div>"
   ]
  },
  {
   "cell_type": "code",
   "execution_count": 31,
   "id": "ce97cd3b",
   "metadata": {
    "execution": {
     "iopub.execute_input": "2023-05-03T18:05:20.560996Z",
     "iopub.status.busy": "2023-05-03T18:05:20.560564Z",
     "iopub.status.idle": "2023-05-03T18:05:20.581187Z",
     "shell.execute_reply": "2023-05-03T18:05:20.579790Z"
    },
    "papermill": {
     "duration": 0.047685,
     "end_time": "2023-05-03T18:05:20.583883",
     "exception": false,
     "start_time": "2023-05-03T18:05:20.536198",
     "status": "completed"
    },
    "tags": []
   },
   "outputs": [
    {
     "name": "stdout",
     "output_type": "stream",
     "text": [
      "Data Shape is : (225954, 7)\n"
     ]
    },
    {
     "data": {
      "text/html": [
       "<div>\n",
       "<style scoped>\n",
       "    .dataframe tbody tr th:only-of-type {\n",
       "        vertical-align: middle;\n",
       "    }\n",
       "\n",
       "    .dataframe tbody tr th {\n",
       "        vertical-align: top;\n",
       "    }\n",
       "\n",
       "    .dataframe thead th {\n",
       "        text-align: right;\n",
       "    }\n",
       "</style>\n",
       "<table border=\"1\" class=\"dataframe\">\n",
       "  <thead>\n",
       "    <tr style=\"text-align: right;\">\n",
       "      <th></th>\n",
       "      <th>batting_team</th>\n",
       "      <th>bowling_team</th>\n",
       "      <th>venue</th>\n",
       "      <th>innings</th>\n",
       "      <th>over</th>\n",
       "      <th>runs</th>\n",
       "      <th>wickets</th>\n",
       "    </tr>\n",
       "  </thead>\n",
       "  <tbody>\n",
       "    <tr>\n",
       "      <th>0</th>\n",
       "      <td>0</td>\n",
       "      <td>1</td>\n",
       "      <td>Bengaluru</td>\n",
       "      <td>1</td>\n",
       "      <td>0.1</td>\n",
       "      <td>1</td>\n",
       "      <td>0</td>\n",
       "    </tr>\n",
       "    <tr>\n",
       "      <th>1</th>\n",
       "      <td>0</td>\n",
       "      <td>1</td>\n",
       "      <td>Bengaluru</td>\n",
       "      <td>1</td>\n",
       "      <td>0.2</td>\n",
       "      <td>1</td>\n",
       "      <td>0</td>\n",
       "    </tr>\n",
       "    <tr>\n",
       "      <th>2</th>\n",
       "      <td>0</td>\n",
       "      <td>1</td>\n",
       "      <td>Bengaluru</td>\n",
       "      <td>1</td>\n",
       "      <td>0.3</td>\n",
       "      <td>2</td>\n",
       "      <td>0</td>\n",
       "    </tr>\n",
       "    <tr>\n",
       "      <th>3</th>\n",
       "      <td>0</td>\n",
       "      <td>1</td>\n",
       "      <td>Bengaluru</td>\n",
       "      <td>1</td>\n",
       "      <td>0.4</td>\n",
       "      <td>2</td>\n",
       "      <td>0</td>\n",
       "    </tr>\n",
       "    <tr>\n",
       "      <th>4</th>\n",
       "      <td>0</td>\n",
       "      <td>1</td>\n",
       "      <td>Bengaluru</td>\n",
       "      <td>1</td>\n",
       "      <td>0.5</td>\n",
       "      <td>2</td>\n",
       "      <td>0</td>\n",
       "    </tr>\n",
       "  </tbody>\n",
       "</table>\n",
       "</div>"
      ],
      "text/plain": [
       "   batting_team  bowling_team      venue  innings  over  runs  wickets\n",
       "0             0             1  Bengaluru        1   0.1     1        0\n",
       "1             0             1  Bengaluru        1   0.2     1        0\n",
       "2             0             1  Bengaluru        1   0.3     2        0\n",
       "3             0             1  Bengaluru        1   0.4     2        0\n",
       "4             0             1  Bengaluru        1   0.5     2        0"
      ]
     },
     "execution_count": 31,
     "metadata": {},
     "output_type": "execute_result"
    }
   ],
   "source": [
    "X =df1.drop(columns=['final_total_runs'],axis=1)\n",
    "print(\"Data Shape is :\",X.shape)\n",
    "X.head()"
   ]
  },
  {
   "cell_type": "code",
   "execution_count": 32,
   "id": "0db0bc7d",
   "metadata": {
    "execution": {
     "iopub.execute_input": "2023-05-03T18:05:20.631832Z",
     "iopub.status.busy": "2023-05-03T18:05:20.631379Z",
     "iopub.status.idle": "2023-05-03T18:05:20.639990Z",
     "shell.execute_reply": "2023-05-03T18:05:20.638512Z"
    },
    "papermill": {
     "duration": 0.035747,
     "end_time": "2023-05-03T18:05:20.642634",
     "exception": false,
     "start_time": "2023-05-03T18:05:20.606887",
     "status": "completed"
    },
    "tags": []
   },
   "outputs": [
    {
     "data": {
      "text/plain": [
       "0    222\n",
       "1    222\n",
       "2    222\n",
       "3    222\n",
       "4    222\n",
       "Name: final_total_runs, dtype: int64"
      ]
     },
     "execution_count": 32,
     "metadata": {},
     "output_type": "execute_result"
    }
   ],
   "source": [
    "Y = df1['final_total_runs']\n",
    "Y.head()"
   ]
  },
  {
   "cell_type": "markdown",
   "id": "fbf1bafb",
   "metadata": {
    "papermill": {
     "duration": 0.022868,
     "end_time": "2023-05-03T18:05:20.689020",
     "exception": false,
     "start_time": "2023-05-03T18:05:20.666152",
     "status": "completed"
    },
    "tags": []
   },
   "source": [
    "<a id=\"section-two\"></a>\n",
    "\n",
    "<div style=\"color:white;display:fill;border-radius:8px;\n",
    "            background-color:#0E1585;font-size:150%;\n",
    "            font-family:Nexa;letter-spacing:0.5px\">\n",
    "    <p style=\"padding: 8px;color:white;\"><b>3.4 | OneHotEncoding </b></p>\n",
    "</div>"
   ]
  },
  {
   "cell_type": "code",
   "execution_count": 33,
   "id": "8f71dacf",
   "metadata": {
    "execution": {
     "iopub.execute_input": "2023-05-03T18:05:20.737236Z",
     "iopub.status.busy": "2023-05-03T18:05:20.736395Z",
     "iopub.status.idle": "2023-05-03T18:05:21.048071Z",
     "shell.execute_reply": "2023-05-03T18:05:21.046743Z"
    },
    "papermill": {
     "duration": 0.339149,
     "end_time": "2023-05-03T18:05:21.051030",
     "exception": false,
     "start_time": "2023-05-03T18:05:20.711881",
     "status": "completed"
    },
    "tags": []
   },
   "outputs": [
    {
     "data": {
      "text/html": [
       "<div>\n",
       "<style scoped>\n",
       "    .dataframe tbody tr th:only-of-type {\n",
       "        vertical-align: middle;\n",
       "    }\n",
       "\n",
       "    .dataframe tbody tr th {\n",
       "        vertical-align: top;\n",
       "    }\n",
       "\n",
       "    .dataframe thead th {\n",
       "        text-align: right;\n",
       "    }\n",
       "</style>\n",
       "<table border=\"1\" class=\"dataframe\">\n",
       "  <thead>\n",
       "    <tr style=\"text-align: right;\">\n",
       "      <th></th>\n",
       "      <th>batting_team</th>\n",
       "      <th>bowling_team</th>\n",
       "      <th>innings</th>\n",
       "      <th>over</th>\n",
       "      <th>runs</th>\n",
       "      <th>wickets</th>\n",
       "      <th>Abu Dhabi, UAE</th>\n",
       "      <th>Ahmedabad</th>\n",
       "      <th>Bengaluru</th>\n",
       "      <th>Bloemfontein, South Africa</th>\n",
       "      <th>...</th>\n",
       "      <th>Kimberley, South Africa</th>\n",
       "      <th>Kolkata</th>\n",
       "      <th>Mohali</th>\n",
       "      <th>Mumbai</th>\n",
       "      <th>Pune</th>\n",
       "      <th>Raipur</th>\n",
       "      <th>Rajkot</th>\n",
       "      <th>Ranchi</th>\n",
       "      <th>Sharjah, UAE</th>\n",
       "      <th>Visakhapatnam</th>\n",
       "    </tr>\n",
       "  </thead>\n",
       "  <tbody>\n",
       "    <tr>\n",
       "      <th>0</th>\n",
       "      <td>0</td>\n",
       "      <td>1</td>\n",
       "      <td>1</td>\n",
       "      <td>0.1</td>\n",
       "      <td>1</td>\n",
       "      <td>0</td>\n",
       "      <td>0.0</td>\n",
       "      <td>0.0</td>\n",
       "      <td>1.0</td>\n",
       "      <td>0.0</td>\n",
       "      <td>...</td>\n",
       "      <td>0.0</td>\n",
       "      <td>0.0</td>\n",
       "      <td>0.0</td>\n",
       "      <td>0.0</td>\n",
       "      <td>0.0</td>\n",
       "      <td>0.0</td>\n",
       "      <td>0.0</td>\n",
       "      <td>0.0</td>\n",
       "      <td>0.0</td>\n",
       "      <td>0.0</td>\n",
       "    </tr>\n",
       "    <tr>\n",
       "      <th>1</th>\n",
       "      <td>0</td>\n",
       "      <td>1</td>\n",
       "      <td>1</td>\n",
       "      <td>0.2</td>\n",
       "      <td>1</td>\n",
       "      <td>0</td>\n",
       "      <td>0.0</td>\n",
       "      <td>0.0</td>\n",
       "      <td>1.0</td>\n",
       "      <td>0.0</td>\n",
       "      <td>...</td>\n",
       "      <td>0.0</td>\n",
       "      <td>0.0</td>\n",
       "      <td>0.0</td>\n",
       "      <td>0.0</td>\n",
       "      <td>0.0</td>\n",
       "      <td>0.0</td>\n",
       "      <td>0.0</td>\n",
       "      <td>0.0</td>\n",
       "      <td>0.0</td>\n",
       "      <td>0.0</td>\n",
       "    </tr>\n",
       "    <tr>\n",
       "      <th>2</th>\n",
       "      <td>0</td>\n",
       "      <td>1</td>\n",
       "      <td>1</td>\n",
       "      <td>0.3</td>\n",
       "      <td>2</td>\n",
       "      <td>0</td>\n",
       "      <td>0.0</td>\n",
       "      <td>0.0</td>\n",
       "      <td>1.0</td>\n",
       "      <td>0.0</td>\n",
       "      <td>...</td>\n",
       "      <td>0.0</td>\n",
       "      <td>0.0</td>\n",
       "      <td>0.0</td>\n",
       "      <td>0.0</td>\n",
       "      <td>0.0</td>\n",
       "      <td>0.0</td>\n",
       "      <td>0.0</td>\n",
       "      <td>0.0</td>\n",
       "      <td>0.0</td>\n",
       "      <td>0.0</td>\n",
       "    </tr>\n",
       "    <tr>\n",
       "      <th>3</th>\n",
       "      <td>0</td>\n",
       "      <td>1</td>\n",
       "      <td>1</td>\n",
       "      <td>0.4</td>\n",
       "      <td>2</td>\n",
       "      <td>0</td>\n",
       "      <td>0.0</td>\n",
       "      <td>0.0</td>\n",
       "      <td>1.0</td>\n",
       "      <td>0.0</td>\n",
       "      <td>...</td>\n",
       "      <td>0.0</td>\n",
       "      <td>0.0</td>\n",
       "      <td>0.0</td>\n",
       "      <td>0.0</td>\n",
       "      <td>0.0</td>\n",
       "      <td>0.0</td>\n",
       "      <td>0.0</td>\n",
       "      <td>0.0</td>\n",
       "      <td>0.0</td>\n",
       "      <td>0.0</td>\n",
       "    </tr>\n",
       "    <tr>\n",
       "      <th>4</th>\n",
       "      <td>0</td>\n",
       "      <td>1</td>\n",
       "      <td>1</td>\n",
       "      <td>0.5</td>\n",
       "      <td>2</td>\n",
       "      <td>0</td>\n",
       "      <td>0.0</td>\n",
       "      <td>0.0</td>\n",
       "      <td>1.0</td>\n",
       "      <td>0.0</td>\n",
       "      <td>...</td>\n",
       "      <td>0.0</td>\n",
       "      <td>0.0</td>\n",
       "      <td>0.0</td>\n",
       "      <td>0.0</td>\n",
       "      <td>0.0</td>\n",
       "      <td>0.0</td>\n",
       "      <td>0.0</td>\n",
       "      <td>0.0</td>\n",
       "      <td>0.0</td>\n",
       "      <td>0.0</td>\n",
       "    </tr>\n",
       "  </tbody>\n",
       "</table>\n",
       "<p>5 rows × 36 columns</p>\n",
       "</div>"
      ],
      "text/plain": [
       "   batting_team  bowling_team  innings  over  runs  wickets  Abu Dhabi, UAE  \\\n",
       "0             0             1        1   0.1     1        0             0.0   \n",
       "1             0             1        1   0.2     1        0             0.0   \n",
       "2             0             1        1   0.3     2        0             0.0   \n",
       "3             0             1        1   0.4     2        0             0.0   \n",
       "4             0             1        1   0.5     2        0             0.0   \n",
       "\n",
       "   Ahmedabad  Bengaluru  Bloemfontein, South Africa  ...  \\\n",
       "0        0.0        1.0                         0.0  ...   \n",
       "1        0.0        1.0                         0.0  ...   \n",
       "2        0.0        1.0                         0.0  ...   \n",
       "3        0.0        1.0                         0.0  ...   \n",
       "4        0.0        1.0                         0.0  ...   \n",
       "\n",
       "   Kimberley, South Africa  Kolkata  Mohali  Mumbai  Pune  Raipur  Rajkot  \\\n",
       "0                      0.0      0.0     0.0     0.0   0.0     0.0     0.0   \n",
       "1                      0.0      0.0     0.0     0.0   0.0     0.0     0.0   \n",
       "2                      0.0      0.0     0.0     0.0   0.0     0.0     0.0   \n",
       "3                      0.0      0.0     0.0     0.0   0.0     0.0     0.0   \n",
       "4                      0.0      0.0     0.0     0.0   0.0     0.0     0.0   \n",
       "\n",
       "   Ranchi  Sharjah, UAE  Visakhapatnam  \n",
       "0     0.0           0.0            0.0  \n",
       "1     0.0           0.0            0.0  \n",
       "2     0.0           0.0            0.0  \n",
       "3     0.0           0.0            0.0  \n",
       "4     0.0           0.0            0.0  \n",
       "\n",
       "[5 rows x 36 columns]"
      ]
     },
     "execution_count": 33,
     "metadata": {},
     "output_type": "execute_result"
    }
   ],
   "source": [
    "# Get the column names of numerical and categorical features\n",
    "num_features = X.select_dtypes(exclude=\"object\").columns\n",
    "cat_features = X.select_dtypes(include=\"object\").columns\n",
    "\n",
    "# Instantiate OneHotEncoder\n",
    "encoder = OneHotEncoder()\n",
    "\n",
    "# Use fit_transform() to encode the specified columns\n",
    "encoded_features = encoder.fit_transform(X[cat_features])\n",
    "\n",
    "# The encoded_features will be in a sparse matrix format, you can convert it to a dense array using toarray()\n",
    "# If you want to append it to the original dataframe, you can convert it to a dataframe using pd.DataFrame()\n",
    "encoded_features_df = pd.DataFrame(encoded_features.toarray(), columns=encoder.get_feature_names_out(cat_features))\n",
    "\n",
    "# Remove the \"venue_\" prefix from column names in the encoded features dataframe\n",
    "encoded_features_df.columns = [col.split(\"venue_\")[1] for col in encoded_features_df.columns]\n",
    "\n",
    "# Concatenate the encoded features dataframe with the original dataframe\n",
    "X = pd.concat([X.drop(cat_features, axis=1), encoded_features_df], axis=1)\n",
    "\n",
    "# Display the encoded dataframe\n",
    "X.head()\n"
   ]
  },
  {
   "cell_type": "code",
   "execution_count": 34,
   "id": "40ce96d4",
   "metadata": {
    "execution": {
     "iopub.execute_input": "2023-05-03T18:05:21.104712Z",
     "iopub.status.busy": "2023-05-03T18:05:21.103271Z",
     "iopub.status.idle": "2023-05-03T18:05:21.113975Z",
     "shell.execute_reply": "2023-05-03T18:05:21.112487Z"
    },
    "papermill": {
     "duration": 0.043861,
     "end_time": "2023-05-03T18:05:21.118343",
     "exception": false,
     "start_time": "2023-05-03T18:05:21.074482",
     "status": "completed"
    },
    "tags": []
   },
   "outputs": [
    {
     "data": {
      "text/plain": [
       "Index(['batting_team', 'bowling_team', 'innings', 'over', 'runs', 'wickets',\n",
       "       'Abu Dhabi, UAE', 'Ahmedabad', 'Bengaluru',\n",
       "       'Bloemfontein, South Africa', 'Cape Town, South Africa',\n",
       "       'Centurion, South Africa', 'Chennai', 'Cuttack', 'Delhi', 'Dharamshala',\n",
       "       'Dubai, UAE', 'Durban, KwaZulu-Natal, South Africa',\n",
       "       'East London, Eastern Cape, South Africa', 'Gqeberha, South Africa',\n",
       "       'Hyderabad', 'Indore', 'Jaipur', 'Jamtha', 'Johannesburg, South Africa',\n",
       "       'Kanpur', 'Kimberley, South Africa', 'Kolkata', 'Mohali', 'Mumbai',\n",
       "       'Pune', 'Raipur', 'Rajkot', 'Ranchi', 'Sharjah, UAE', 'Visakhapatnam'],\n",
       "      dtype='object')"
      ]
     },
     "execution_count": 34,
     "metadata": {},
     "output_type": "execute_result"
    }
   ],
   "source": [
    "X.columns"
   ]
  },
  {
   "cell_type": "markdown",
   "id": "d7374c67",
   "metadata": {
    "papermill": {
     "duration": 0.02865,
     "end_time": "2023-05-03T18:05:21.176557",
     "exception": false,
     "start_time": "2023-05-03T18:05:21.147907",
     "status": "completed"
    },
    "tags": []
   },
   "source": [
    "<a id=\"section-two\"></a>\n",
    "\n",
    "<div style=\"color:white;display:fill;border-radius:8px;\n",
    "            background-color:#0E1585;font-size:150%;\n",
    "            font-family:Nexa;letter-spacing:0.5px\">\n",
    "    <p style=\"padding: 8px;color:white;\"><b>3.5 | Separate dataset into train and test </b></p>\n",
    "</div>"
   ]
  },
  {
   "cell_type": "code",
   "execution_count": 35,
   "id": "7743422e",
   "metadata": {
    "execution": {
     "iopub.execute_input": "2023-05-03T18:05:21.229110Z",
     "iopub.status.busy": "2023-05-03T18:05:21.228692Z",
     "iopub.status.idle": "2023-05-03T18:05:21.367707Z",
     "shell.execute_reply": "2023-05-03T18:05:21.366482Z"
    },
    "papermill": {
     "duration": 0.16641,
     "end_time": "2023-05-03T18:05:21.370088",
     "exception": false,
     "start_time": "2023-05-03T18:05:21.203678",
     "status": "completed"
    },
    "tags": []
   },
   "outputs": [
    {
     "data": {
      "text/plain": [
       "((180763, 36), (45191, 36))"
      ]
     },
     "execution_count": 35,
     "metadata": {},
     "output_type": "execute_result"
    }
   ],
   "source": [
    "# separate dataset into train and test\n",
    "X_train, X_test, Y_train, Y_test = train_test_split(X,Y,test_size=0.2,random_state=42)\n",
    "X_train.shape, X_test.shape"
   ]
  },
  {
   "cell_type": "markdown",
   "id": "3d93f90b",
   "metadata": {
    "papermill": {
     "duration": 0.023105,
     "end_time": "2023-05-03T18:05:21.416709",
     "exception": false,
     "start_time": "2023-05-03T18:05:21.393604",
     "status": "completed"
    },
    "tags": []
   },
   "source": [
    "<a id=\"section-two\"></a>\n",
    "\n",
    "<div style=\"color:white;display:fill;border-radius:8px;\n",
    "            background-color:#0E1585;font-size:150%;\n",
    "            font-family:Nexa;letter-spacing:0.5px\">\n",
    "    <p style=\"padding: 8px;color:white;\"><b>3.6 | Scaing the dataset </b></p>\n",
    "</div>"
   ]
  },
  {
   "cell_type": "code",
   "execution_count": 36,
   "id": "c0c8402d",
   "metadata": {
    "execution": {
     "iopub.execute_input": "2023-05-03T18:05:21.465963Z",
     "iopub.status.busy": "2023-05-03T18:05:21.465533Z",
     "iopub.status.idle": "2023-05-03T18:05:21.619509Z",
     "shell.execute_reply": "2023-05-03T18:05:21.618128Z"
    },
    "papermill": {
     "duration": 0.182106,
     "end_time": "2023-05-03T18:05:21.622201",
     "exception": false,
     "start_time": "2023-05-03T18:05:21.440095",
     "status": "completed"
    },
    "tags": []
   },
   "outputs": [],
   "source": [
    "# Create a StandardScaler transformer for numerical features\n",
    "scaler = StandardScaler()\n",
    "X_train = scaler.fit_transform(X_train)\n",
    "X_test = scaler.transform(X_test)"
   ]
  },
  {
   "cell_type": "markdown",
   "id": "8e0d02e6",
   "metadata": {
    "papermill": {
     "duration": 0.023391,
     "end_time": "2023-05-03T18:05:21.669252",
     "exception": false,
     "start_time": "2023-05-03T18:05:21.645861",
     "status": "completed"
    },
    "tags": []
   },
   "source": [
    "<a id=\"section-two\"></a>\n",
    "\n",
    "<div style=\"color:white;display:fill;border-radius:8px;\n",
    "            background-color:#0E1585;font-size:150%;\n",
    "            font-family:Nexa;letter-spacing:0.5px\">\n",
    "    <p style=\"padding: 8px;color:white;\"><b>3.7 | Create an Evaluate Function to give all metrics after model Training </b></p>\n",
    "</div>"
   ]
  },
  {
   "cell_type": "code",
   "execution_count": 37,
   "id": "cbd3afaf",
   "metadata": {
    "execution": {
     "iopub.execute_input": "2023-05-03T18:05:21.718966Z",
     "iopub.status.busy": "2023-05-03T18:05:21.717711Z",
     "iopub.status.idle": "2023-05-03T18:05:21.724275Z",
     "shell.execute_reply": "2023-05-03T18:05:21.722957Z"
    },
    "papermill": {
     "duration": 0.034274,
     "end_time": "2023-05-03T18:05:21.727051",
     "exception": false,
     "start_time": "2023-05-03T18:05:21.692777",
     "status": "completed"
    },
    "tags": []
   },
   "outputs": [],
   "source": [
    "def evaluate_model(true, predicted):\n",
    "    mae = mean_absolute_error(true, predicted)\n",
    "    mse = mean_squared_error(true, predicted)\n",
    "    rmse = np.sqrt(mean_squared_error(true, predicted))\n",
    "    r2_square = r2_score(true, predicted)\n",
    "    return mae,mse,rmse,r2_square"
   ]
  },
  {
   "cell_type": "markdown",
   "id": "394b658e",
   "metadata": {
    "papermill": {
     "duration": 0.023048,
     "end_time": "2023-05-03T18:05:21.773607",
     "exception": false,
     "start_time": "2023-05-03T18:05:21.750559",
     "status": "completed"
    },
    "tags": []
   },
   "source": [
    "<a id=\"section-two\"></a>\n",
    "\n",
    "<div style=\"color:white;display:fill;border-radius:8px;\n",
    "            background-color:#0E1585;font-size:150%;\n",
    "            font-family:Nexa;letter-spacing:0.5px\">\n",
    "    <p style=\"padding: 8px;color:white;\"><b>3.8 | Models Training </b></p>\n",
    "</div>"
   ]
  },
  {
   "cell_type": "code",
   "execution_count": 38,
   "id": "a9530ab8",
   "metadata": {
    "execution": {
     "iopub.execute_input": "2023-05-03T18:05:21.823139Z",
     "iopub.status.busy": "2023-05-03T18:05:21.821873Z",
     "iopub.status.idle": "2023-05-03T18:05:21.831388Z",
     "shell.execute_reply": "2023-05-03T18:05:21.830488Z"
    },
    "papermill": {
     "duration": 0.036975,
     "end_time": "2023-05-03T18:05:21.833990",
     "exception": false,
     "start_time": "2023-05-03T18:05:21.797015",
     "status": "completed"
    },
    "tags": []
   },
   "outputs": [],
   "source": [
    "algos = {\n",
    "    \"Linear Regression\": {\n",
    "        \"model\": LinearRegression(),\n",
    "        \"params\": {}\n",
    "    },\n",
    "    \"Ridge\": {\n",
    "        \"model\": Ridge(),\n",
    "        \"params\": {\n",
    "            \"alpha\":np.arange(0.1, 1, 0.01)\n",
    "        }\n",
    "    },\n",
    "    \"Lasso\": {\n",
    "        \"model\": Lasso(),\n",
    "        \"params\": {\n",
    "            \"alpha\": np.arange(0.1, 1, 0.01)\n",
    "        }\n",
    "    },\n",
    "#     \"Decision Tree\": {\n",
    "#         \"model\": DecisionTreeRegressor(),\n",
    "#         \"params\": {\n",
    "# #             \"criterion\": [\"squared_error\", \"mae\"],\n",
    "#             \"criterion\": [\"squared_error\", \"friedman_mse\"],\n",
    "#             \"splitter\": [\"best\", \"random\"],\n",
    "#             \"max_depth\": [1, 3, 5, 7, 9, 10, 11, 12, 14, 15, 18, 20, 25, 28, 30, 33, 38, 40],\n",
    "#             \"min_samples_split\": [2, 4, 6, 8, 10, 15, 20],\n",
    "#             \"min_samples_leaf\": [i for i in range(1, 11)],\n",
    "#             \"max_leaf_nodes\": [None] + [i for i in range(10, 91, 10)],\n",
    "#             \"max_features\": [\"auto\", \"log2\", \"sqrt\", None]            \n",
    "#         }\n",
    "#     },\n",
    "#     \"Random Forest\": {\n",
    "#         \"model\": RandomForestRegressor(),\n",
    "#         \"params\": {\n",
    "#             \"n_estimators\": [100, 200, 300],\n",
    "# #             \"criterion\": [\"squared_error\", \"mae\"],\n",
    "#             \"criterion\": [\"squared_error\", \"friedman_mse\"],\n",
    "#             \"max_depth\": [1, 3, 5, 7, 9, 10, 11, 12, 14, 15, 18, 20, 25, 28, 30, 33, 38, 40],\n",
    "#             \"min_samples_split\": [2, 4, 6, 8, 10, 15, 20],\n",
    "#             \"min_samples_leaf\": [i for i in range(1, 11)],\n",
    "#             \"max_leaf_nodes\": [None] + [i for i in range(10, 91, 10)],\n",
    "#             \"max_features\": [\"auto\", \"log2\", \"sqrt\", None]\n",
    "#         }\n",
    "#     },\n",
    "#     \"Ada Boost\": {\n",
    "#         \"model\": AdaBoostRegressor(),\n",
    "#         \"params\": {\n",
    "#             \"n_estimators\": [100, 200, 300],\n",
    "#             \"learning_rate\": np.arange(0.1, 1, 0.01),\n",
    "#             \"loss\": ['linear', 'square', 'exponential']\n",
    "#         }\n",
    "#     },\n",
    "#     \"Gradient Boost\": {\n",
    "#         \"model\": GradientBoostingRegressor(),\n",
    "#         \"params\": {\n",
    "#             \"learning_rate\": np.arange(0.1, 1, 0.01),\n",
    "#             \"n_estimators\": [100, 200, 300],\n",
    "# #             \"criterion\": [\"squared_error\", \"mae\"],\n",
    "#             \"criterion\": [\"squared_error\", \"friedman_mse\"],\n",
    "#             \"min_samples_split\": [2, 4, 6, 8, 10, 15, 20],\n",
    "#             \"min_samples_leaf\": [i for i in range(1, 11)],\n",
    "#             \"max_depth\": [1, 3, 5, 7, 9, 10, 11, 12, 14, 15, 18, 20, 25, 28, 30, 33, 38, 40],\n",
    "#             \"max_features\": [\"auto\", \"log2\", \"sqrt\", None],\n",
    "#             \"max_leaf_nodes\": [None] + [i for i in range(10, 91, 10)],\n",
    "#             \"alpha\": np.arange(0.1, 1, 0.01)\n",
    "#         }\n",
    "#     }\n",
    "}"
   ]
  },
  {
   "cell_type": "code",
   "execution_count": 39,
   "id": "3843ec8a",
   "metadata": {
    "execution": {
     "iopub.execute_input": "2023-05-03T18:05:21.883707Z",
     "iopub.status.busy": "2023-05-03T18:05:21.882637Z",
     "iopub.status.idle": "2023-05-03T18:10:22.536346Z",
     "shell.execute_reply": "2023-05-03T18:10:22.534813Z"
    },
    "papermill": {
     "duration": 300.707715,
     "end_time": "2023-05-03T18:10:22.565350",
     "exception": false,
     "start_time": "2023-05-03T18:05:21.857635",
     "status": "completed"
    },
    "tags": []
   },
   "outputs": [
    {
     "name": "stdout",
     "output_type": "stream",
     "text": [
      "Model : Linear Regression\n",
      "Best Model Details\n",
      "Best score: -507.478365291831\n",
      "Best params: {}\n",
      "----------------------------------\n",
      "Model performance for Training set\n",
      "- Root Mean Squared Error: 22.5241\n",
      "- Mean Absolute Error: 16.6438\n",
      "- R2 Score: 0.4321\n",
      "----------------------------------\n",
      "Model performance for Test set\n",
      "- Root Mean Squared Error: 22.5008\n",
      "- Mean Absolute Error: 16.5673\n",
      "- R2 Score: 0.4355\n",
      "===================================\n",
      "\n",
      "\n",
      "Model : Ridge\n",
      "Best Model Details\n",
      "Best score: -507.4784792257219\n",
      "Best params: {'alpha': 0.9899999999999995}\n",
      "----------------------------------\n",
      "Model performance for Training set\n",
      "- Root Mean Squared Error: 22.5224\n",
      "- Mean Absolute Error: 16.6505\n",
      "- R2 Score: 0.4322\n",
      "----------------------------------\n",
      "Model performance for Test set\n",
      "- Root Mean Squared Error: 22.4982\n",
      "- Mean Absolute Error: 16.5750\n",
      "- R2 Score: 0.4357\n",
      "===================================\n",
      "\n",
      "\n",
      "Model : Lasso\n",
      "Best Model Details\n",
      "Best score: -508.0736842239371\n",
      "Best params: {'alpha': 0.1}\n",
      "----------------------------------\n",
      "Model performance for Training set\n",
      "- Root Mean Squared Error: 22.5359\n",
      "- Mean Absolute Error: 16.6635\n",
      "- R2 Score: 0.4315\n",
      "----------------------------------\n",
      "Model performance for Test set\n",
      "- Root Mean Squared Error: 22.5200\n",
      "- Mean Absolute Error: 16.5956\n",
      "- R2 Score: 0.4346\n",
      "===================================\n",
      "\n",
      "\n",
      "--------------------------------------------------------\n",
      "it takes 5.010344274838766 minutes\n",
      "--------------------------------------------------------\n"
     ]
    }
   ],
   "source": [
    "start_time = time.time()\n",
    "train_model_error = []\n",
    "test_model_error = []\n",
    "best_model_details = []\n",
    "final_model = {}\n",
    "# Train and evaluate models\n",
    "for model_name, values in algos.items():\n",
    "    \n",
    "    grid_search = GridSearchCV(values[\"model\"], values[\"params\"], scoring='neg_mean_squared_error', cv=5)\n",
    "#     codegrid_search = RandomizedSearchCV(values[\"model\"], values[\"params\"], cv=5, n_iter=15, n_jobs=-1, verbose=2, random_state=4)\n",
    "    grid_search.fit(X_train, Y_train)\n",
    "    best_score = grid_search.best_score_\n",
    "    best_params = grid_search.best_params_\n",
    "    \n",
    "    best_model_details.append({\"Model Name\": model_name, \"Best Score\": best_score, \"Best Parameters\": best_params})\n",
    "    # Fit model with best hyperparameters\n",
    "    best_model = values[\"model\"].set_params(**best_params)\n",
    "    best_model.fit(X_train, Y_train)\n",
    "    final_model[model_name] = best_model\n",
    "    # Make predictions\n",
    "    Y_train_pred = best_model.predict(X_train)\n",
    "    Y_test_pred = best_model.predict(X_test)\n",
    "    \n",
    "    # Evaluate Train and Test dataset\n",
    "    model_train_mae , model_train_mse, model_train_rmse, model_train_r2 = evaluate_model(Y_train, Y_train_pred)\n",
    "    model_test_mae , model_test_mse, model_test_rmse, model_test_r2 = evaluate_model(Y_test, Y_test_pred)\n",
    "    \n",
    "    train_model_error.append({\"Model Name\": model_name, \"Mean Absolute Error\": model_train_mae, \"Mean Squared Error\": model_train_mse, \"Root Mean Squared Error\": model_train_rmse,\"r2 score\":model_train_r2})\n",
    "    test_model_error.append({\"Model Name\": model_name, \"Mean Absolute Error\": model_test_mae, \"Mean Squared Error\": model_test_mse, \"Root Mean Squared Error\": model_test_rmse,\"r2 score\":model_test_r2})\n",
    "    print(\"Model : \"+ model_name)\n",
    "    print('Best Model Details')\n",
    "    print('Best score:', best_score)\n",
    "    print('Best params:', best_params)\n",
    "    print('----------------------------------')\n",
    "    \n",
    "    \n",
    "    print('Model performance for Training set')\n",
    "    print(\"- Root Mean Squared Error: {:.4f}\".format(model_train_rmse))\n",
    "    print(\"- Mean Absolute Error: {:.4f}\".format(model_train_mae))\n",
    "    print(\"- R2 Score: {:.4f}\".format(model_train_r2))\n",
    "    print('----------------------------------')\n",
    "    \n",
    "    print('Model performance for Test set')\n",
    "    print(\"- Root Mean Squared Error: {:.4f}\".format(model_test_rmse))\n",
    "    print(\"- Mean Absolute Error: {:.4f}\".format(model_test_mae))\n",
    "    print(\"- R2 Score: {:.4f}\".format(model_test_r2))\n",
    "    \n",
    "    print('='*35)\n",
    "    print('\\n')\n",
    "    \n",
    "print(\"--------------------------------------------------------\")\n",
    "print(f\"it takes {(time.time() - start_time) / 60} minutes\")\n",
    "print(\"--------------------------------------------------------\")"
   ]
  },
  {
   "cell_type": "code",
   "execution_count": 40,
   "id": "1892eae7",
   "metadata": {
    "execution": {
     "iopub.execute_input": "2023-05-03T18:10:22.638496Z",
     "iopub.status.busy": "2023-05-03T18:10:22.637263Z",
     "iopub.status.idle": "2023-05-03T18:10:22.652760Z",
     "shell.execute_reply": "2023-05-03T18:10:22.651737Z"
    },
    "papermill": {
     "duration": 0.051091,
     "end_time": "2023-05-03T18:10:22.655098",
     "exception": false,
     "start_time": "2023-05-03T18:10:22.604007",
     "status": "completed"
    },
    "tags": []
   },
   "outputs": [
    {
     "name": "stdout",
     "output_type": "stream",
     "text": [
      "-------- Best Model Details --------\n"
     ]
    },
    {
     "data": {
      "text/html": [
       "<div>\n",
       "<style scoped>\n",
       "    .dataframe tbody tr th:only-of-type {\n",
       "        vertical-align: middle;\n",
       "    }\n",
       "\n",
       "    .dataframe tbody tr th {\n",
       "        vertical-align: top;\n",
       "    }\n",
       "\n",
       "    .dataframe thead th {\n",
       "        text-align: right;\n",
       "    }\n",
       "</style>\n",
       "<table border=\"1\" class=\"dataframe\">\n",
       "  <thead>\n",
       "    <tr style=\"text-align: right;\">\n",
       "      <th></th>\n",
       "      <th>Model Name</th>\n",
       "      <th>Best Score</th>\n",
       "      <th>Best Parameters</th>\n",
       "    </tr>\n",
       "  </thead>\n",
       "  <tbody>\n",
       "    <tr>\n",
       "      <th>0</th>\n",
       "      <td>Linear Regression</td>\n",
       "      <td>-507.478365</td>\n",
       "      <td>{}</td>\n",
       "    </tr>\n",
       "    <tr>\n",
       "      <th>1</th>\n",
       "      <td>Ridge</td>\n",
       "      <td>-507.478479</td>\n",
       "      <td>{'alpha': 0.9899999999999995}</td>\n",
       "    </tr>\n",
       "    <tr>\n",
       "      <th>2</th>\n",
       "      <td>Lasso</td>\n",
       "      <td>-508.073684</td>\n",
       "      <td>{'alpha': 0.1}</td>\n",
       "    </tr>\n",
       "  </tbody>\n",
       "</table>\n",
       "</div>"
      ],
      "text/plain": [
       "          Model Name  Best Score                Best Parameters\n",
       "0  Linear Regression -507.478365                             {}\n",
       "1              Ridge -507.478479  {'alpha': 0.9899999999999995}\n",
       "2              Lasso -508.073684                 {'alpha': 0.1}"
      ]
     },
     "execution_count": 40,
     "metadata": {},
     "output_type": "execute_result"
    }
   ],
   "source": [
    "pd.set_option('display.max_colwidth', None)\n",
    "print(\"-------- Best Model Details --------\")\n",
    "pd.DataFrame(best_model_details)"
   ]
  },
  {
   "cell_type": "code",
   "execution_count": 41,
   "id": "50e49fe2",
   "metadata": {
    "execution": {
     "iopub.execute_input": "2023-05-03T18:10:22.705205Z",
     "iopub.status.busy": "2023-05-03T18:10:22.704132Z",
     "iopub.status.idle": "2023-05-03T18:10:22.719590Z",
     "shell.execute_reply": "2023-05-03T18:10:22.718174Z"
    },
    "papermill": {
     "duration": 0.043327,
     "end_time": "2023-05-03T18:10:22.722317",
     "exception": false,
     "start_time": "2023-05-03T18:10:22.678990",
     "status": "completed"
    },
    "tags": []
   },
   "outputs": [
    {
     "name": "stdout",
     "output_type": "stream",
     "text": [
      "-------- Training Data Error --------\n"
     ]
    },
    {
     "data": {
      "text/html": [
       "<div>\n",
       "<style scoped>\n",
       "    .dataframe tbody tr th:only-of-type {\n",
       "        vertical-align: middle;\n",
       "    }\n",
       "\n",
       "    .dataframe tbody tr th {\n",
       "        vertical-align: top;\n",
       "    }\n",
       "\n",
       "    .dataframe thead th {\n",
       "        text-align: right;\n",
       "    }\n",
       "</style>\n",
       "<table border=\"1\" class=\"dataframe\">\n",
       "  <thead>\n",
       "    <tr style=\"text-align: right;\">\n",
       "      <th></th>\n",
       "      <th>Model Name</th>\n",
       "      <th>Mean Absolute Error</th>\n",
       "      <th>Mean Squared Error</th>\n",
       "      <th>Root Mean Squared Error</th>\n",
       "      <th>r2 score</th>\n",
       "    </tr>\n",
       "  </thead>\n",
       "  <tbody>\n",
       "    <tr>\n",
       "      <th>0</th>\n",
       "      <td>Linear Regression</td>\n",
       "      <td>16.643812</td>\n",
       "      <td>507.337018</td>\n",
       "      <td>22.524143</td>\n",
       "      <td>0.432138</td>\n",
       "    </tr>\n",
       "    <tr>\n",
       "      <th>1</th>\n",
       "      <td>Ridge</td>\n",
       "      <td>16.650547</td>\n",
       "      <td>507.258859</td>\n",
       "      <td>22.522408</td>\n",
       "      <td>0.432226</td>\n",
       "    </tr>\n",
       "    <tr>\n",
       "      <th>2</th>\n",
       "      <td>Lasso</td>\n",
       "      <td>16.663476</td>\n",
       "      <td>507.866774</td>\n",
       "      <td>22.535900</td>\n",
       "      <td>0.431545</td>\n",
       "    </tr>\n",
       "  </tbody>\n",
       "</table>\n",
       "</div>"
      ],
      "text/plain": [
       "          Model Name  Mean Absolute Error  Mean Squared Error  \\\n",
       "0  Linear Regression            16.643812          507.337018   \n",
       "1              Ridge            16.650547          507.258859   \n",
       "2              Lasso            16.663476          507.866774   \n",
       "\n",
       "   Root Mean Squared Error  r2 score  \n",
       "0                22.524143  0.432138  \n",
       "1                22.522408  0.432226  \n",
       "2                22.535900  0.431545  "
      ]
     },
     "execution_count": 41,
     "metadata": {},
     "output_type": "execute_result"
    }
   ],
   "source": [
    "train_model_error = pd.DataFrame(train_model_error)\n",
    "print(\"-------- Training Data Error --------\")\n",
    "train_model_error"
   ]
  },
  {
   "cell_type": "code",
   "execution_count": 42,
   "id": "be871376",
   "metadata": {
    "execution": {
     "iopub.execute_input": "2023-05-03T18:10:22.772967Z",
     "iopub.status.busy": "2023-05-03T18:10:22.772551Z",
     "iopub.status.idle": "2023-05-03T18:10:22.786953Z",
     "shell.execute_reply": "2023-05-03T18:10:22.785477Z"
    },
    "papermill": {
     "duration": 0.043032,
     "end_time": "2023-05-03T18:10:22.789707",
     "exception": false,
     "start_time": "2023-05-03T18:10:22.746675",
     "status": "completed"
    },
    "tags": []
   },
   "outputs": [
    {
     "name": "stdout",
     "output_type": "stream",
     "text": [
      "-------- Test Data Error --------\n"
     ]
    },
    {
     "data": {
      "text/html": [
       "<div>\n",
       "<style scoped>\n",
       "    .dataframe tbody tr th:only-of-type {\n",
       "        vertical-align: middle;\n",
       "    }\n",
       "\n",
       "    .dataframe tbody tr th {\n",
       "        vertical-align: top;\n",
       "    }\n",
       "\n",
       "    .dataframe thead th {\n",
       "        text-align: right;\n",
       "    }\n",
       "</style>\n",
       "<table border=\"1\" class=\"dataframe\">\n",
       "  <thead>\n",
       "    <tr style=\"text-align: right;\">\n",
       "      <th></th>\n",
       "      <th>Model Name</th>\n",
       "      <th>Mean Absolute Error</th>\n",
       "      <th>Mean Squared Error</th>\n",
       "      <th>Root Mean Squared Error</th>\n",
       "      <th>r2 score</th>\n",
       "    </tr>\n",
       "  </thead>\n",
       "  <tbody>\n",
       "    <tr>\n",
       "      <th>0</th>\n",
       "      <td>Linear Regression</td>\n",
       "      <td>16.567328</td>\n",
       "      <td>506.287755</td>\n",
       "      <td>22.500839</td>\n",
       "      <td>0.435545</td>\n",
       "    </tr>\n",
       "    <tr>\n",
       "      <th>1</th>\n",
       "      <td>Ridge</td>\n",
       "      <td>16.575002</td>\n",
       "      <td>506.168324</td>\n",
       "      <td>22.498185</td>\n",
       "      <td>0.435678</td>\n",
       "    </tr>\n",
       "    <tr>\n",
       "      <th>2</th>\n",
       "      <td>Lasso</td>\n",
       "      <td>16.595579</td>\n",
       "      <td>507.151828</td>\n",
       "      <td>22.520032</td>\n",
       "      <td>0.434582</td>\n",
       "    </tr>\n",
       "  </tbody>\n",
       "</table>\n",
       "</div>"
      ],
      "text/plain": [
       "          Model Name  Mean Absolute Error  Mean Squared Error  \\\n",
       "0  Linear Regression            16.567328          506.287755   \n",
       "1              Ridge            16.575002          506.168324   \n",
       "2              Lasso            16.595579          507.151828   \n",
       "\n",
       "   Root Mean Squared Error  r2 score  \n",
       "0                22.500839  0.435545  \n",
       "1                22.498185  0.435678  \n",
       "2                22.520032  0.434582  "
      ]
     },
     "execution_count": 42,
     "metadata": {},
     "output_type": "execute_result"
    }
   ],
   "source": [
    "test_model_error = pd.DataFrame(test_model_error)\n",
    "print(\"-------- Test Data Error --------\")\n",
    "test_model_error"
   ]
  },
  {
   "cell_type": "markdown",
   "id": "c8d1ed7e",
   "metadata": {
    "papermill": {
     "duration": 0.024098,
     "end_time": "2023-05-03T18:10:22.838194",
     "exception": false,
     "start_time": "2023-05-03T18:10:22.814096",
     "status": "completed"
    },
    "tags": []
   },
   "source": [
    "<a id=\"section-two\"></a>\n",
    "\n",
    "<div style=\"color:white;display:fill;border-radius:8px;\n",
    "            background-color:#0E1585;font-size:150%;\n",
    "            font-family:Nexa;letter-spacing:0.5px\">\n",
    "    <p style=\"padding: 8px;color:white;\"><b>3.9 | Compare train and test dataset and Choose the best-performing model </b></p>\n",
    "</div>"
   ]
  },
  {
   "cell_type": "code",
   "execution_count": 43,
   "id": "1f3acba5",
   "metadata": {
    "execution": {
     "iopub.execute_input": "2023-05-03T18:10:22.888812Z",
     "iopub.status.busy": "2023-05-03T18:10:22.888380Z",
     "iopub.status.idle": "2023-05-03T18:10:22.904076Z",
     "shell.execute_reply": "2023-05-03T18:10:22.902893Z"
    },
    "papermill": {
     "duration": 0.043729,
     "end_time": "2023-05-03T18:10:22.906571",
     "exception": false,
     "start_time": "2023-05-03T18:10:22.862842",
     "status": "completed"
    },
    "tags": []
   },
   "outputs": [
    {
     "name": "stdout",
     "output_type": "stream",
     "text": [
      "\n",
      "Best Performing Model(s): Linear Regression\n"
     ]
    }
   ],
   "source": [
    "# Compare train and test data errors for each model\n",
    "train_model_error = pd.DataFrame(train_model_error)\n",
    "test_model_error = pd.DataFrame(test_model_error)\n",
    "\n",
    "# print(\"-------- Training Data Error --------\")\n",
    "# print(train_model_error)\n",
    "# print(\"\\n-------- Test Data Error --------\")\n",
    "# print(test_model_error)\n",
    "\n",
    "# Choose the best-performing model based on evaluation metrics\n",
    "best_model = None\n",
    "\n",
    "# Find the model with the lowest MAE\n",
    "best_mae = min(test_model_error['Mean Absolute Error'])\n",
    "best_models_mae = test_model_error[test_model_error['Mean Absolute Error'] == best_mae]['Model Name'].values\n",
    "best_model = ', '.join(best_models_mae)\n",
    "\n",
    "# Find the model with the lowest MSE\n",
    "best_mse = min(test_model_error['Mean Squared Error'])\n",
    "best_models_mse = test_model_error[test_model_error['Mean Squared Error'] == best_mse]['Model Name'].values\n",
    "best_model += ', ' + ', '.join([model for model in best_models_mse if model not in best_models_mae])\n",
    "\n",
    "# Find the model with the lowest RMSE\n",
    "best_rmse = min(test_model_error['Root Mean Squared Error'])\n",
    "best_models_rmse = test_model_error[test_model_error['Root Mean Squared Error'] == best_rmse]['Model Name'].values\n",
    "best_model += ', ' + ', '.join([model for model in best_models_rmse if model not in best_models_mae and model not in best_models_mse])\n",
    "\n",
    "# Find the model with the highest R2 score\n",
    "best_r2 = max(test_model_error['r2 score'])\n",
    "best_models_r2 = test_model_error[test_model_error['r2 score'] == best_r2]['Model Name'].values\n",
    "best_model += ', ' + ', '.join([model for model in best_models_r2 if model not in best_models_mae and model not in best_models_mse and model not in best_models_rmse])\n",
    "\n",
    "print(\"\\nBest Performing Model(s):\", best_model.split(\",\")[0])\n"
   ]
  },
  {
   "cell_type": "markdown",
   "id": "b04a65bd",
   "metadata": {
    "papermill": {
     "duration": 0.024294,
     "end_time": "2023-05-03T18:10:22.955358",
     "exception": false,
     "start_time": "2023-05-03T18:10:22.931064",
     "status": "completed"
    },
    "tags": []
   },
   "source": [
    "<a id=\"section-two\"></a>\n",
    "\n",
    "<div style=\"color:white;display:fill;border-radius:8px;\n",
    "            background-color:#0E1585;font-size:150%;\n",
    "            font-family:Nexa;letter-spacing:0.5px\">\n",
    "    <p style=\"padding: 8px;color:white;\"><b>3.10 | Save all the files </b></p>\n",
    "</div>"
   ]
  },
  {
   "cell_type": "code",
   "execution_count": 44,
   "id": "92dcea7b",
   "metadata": {
    "execution": {
     "iopub.execute_input": "2023-05-03T18:10:23.006763Z",
     "iopub.status.busy": "2023-05-03T18:10:23.006031Z",
     "iopub.status.idle": "2023-05-03T18:10:23.014616Z",
     "shell.execute_reply": "2023-05-03T18:10:23.013400Z"
    },
    "papermill": {
     "duration": 0.037011,
     "end_time": "2023-05-03T18:10:23.017107",
     "exception": false,
     "start_time": "2023-05-03T18:10:22.980096",
     "status": "completed"
    },
    "tags": []
   },
   "outputs": [],
   "source": [
    "# let's save gradient boost model and scaler in the form of pickle file\n",
    "# encoded_team and feature columns as JSON file for prediction purpose which i use in web app \n",
    "\n",
    "save_model=best_model.split(\",\")[0]\n",
    "\n",
    "with open(\"model.pickle\", \"wb\") as f:\n",
    "    pickle.dump(final_model[save_model], f)  \n",
    "    \n",
    "with open(\"scaler.pickle\", \"wb\") as f:\n",
    "    pickle.dump(scaler, f)\n",
    "    \n",
    "with open(\"encodedteams.json\", \"w\") as f:\n",
    "    json.dump(encoded_teams, f)\n",
    "    \n",
    "with open(\"columns.json\", \"w\") as f:\n",
    "    json.dump({\"columns\": list(X.columns)}, f)"
   ]
  },
  {
   "cell_type": "code",
   "execution_count": 45,
   "id": "1219412c",
   "metadata": {
    "execution": {
     "iopub.execute_input": "2023-05-03T18:10:23.068867Z",
     "iopub.status.busy": "2023-05-03T18:10:23.068429Z",
     "iopub.status.idle": "2023-05-03T18:10:23.072748Z",
     "shell.execute_reply": "2023-05-03T18:10:23.071846Z"
    },
    "papermill": {
     "duration": 0.032766,
     "end_time": "2023-05-03T18:10:23.075315",
     "exception": false,
     "start_time": "2023-05-03T18:10:23.042549",
     "status": "completed"
    },
    "tags": []
   },
   "outputs": [],
   "source": [
    "# os.remove(\"model.pickle\")\n",
    "# os.remove(\"model1.pickle\")\n",
    "# os.remove(\"scaler.pickle\")\n",
    "# os.remove(\"encodedteams.json\")\n",
    "# os.remove(\"columns.json\")"
   ]
  },
  {
   "cell_type": "markdown",
   "id": "083f9e88",
   "metadata": {
    "papermill": {
     "duration": 0.025367,
     "end_time": "2023-05-03T18:10:23.125289",
     "exception": false,
     "start_time": "2023-05-03T18:10:23.099922",
     "status": "completed"
    },
    "tags": []
   },
   "source": [
    "<a id=\"section-two\"></a>\n",
    "\n",
    "<div style=\"color:white;display:fill;border-radius:8px;\n",
    "            background-color:#0E1585;font-size:150%;\n",
    "            font-family:Nexa;letter-spacing:0.5px\">\n",
    "    <p style=\"padding: 8px;color:white;\"><b>3.11 | Open all the files </b></p>\n",
    "</div>"
   ]
  },
  {
   "cell_type": "code",
   "execution_count": 46,
   "id": "43a78f10",
   "metadata": {
    "execution": {
     "iopub.execute_input": "2023-05-03T18:10:23.175969Z",
     "iopub.status.busy": "2023-05-03T18:10:23.175564Z",
     "iopub.status.idle": "2023-05-03T18:10:23.183852Z",
     "shell.execute_reply": "2023-05-03T18:10:23.182733Z"
    },
    "papermill": {
     "duration": 0.036743,
     "end_time": "2023-05-03T18:10:23.186277",
     "exception": false,
     "start_time": "2023-05-03T18:10:23.149534",
     "status": "completed"
    },
    "tags": []
   },
   "outputs": [],
   "source": [
    "scaler = None\n",
    "model = None\n",
    "encoded_teams = None\n",
    "columns = None\n",
    "\n",
    "with open(\"model.pickle\", \"rb\") as f:\n",
    "    model = pickle.load(f)\n",
    "    \n",
    "with open(\"scaler.pickle\", \"rb\") as f:\n",
    "    scaler = pickle.load(f)\n",
    "\n",
    "with open(\"encodedteams.json\", \"r\") as f:\n",
    "    encoded_teams = json.load(f)\n",
    "\n",
    "with open(\"columns.json\", \"r\") as f:\n",
    "    columns = np.array(json.load(f)[\"columns\"])"
   ]
  },
  {
   "cell_type": "markdown",
   "id": "8384620e",
   "metadata": {
    "papermill": {
     "duration": 0.023983,
     "end_time": "2023-05-03T18:10:23.234588",
     "exception": false,
     "start_time": "2023-05-03T18:10:23.210605",
     "status": "completed"
    },
    "tags": []
   },
   "source": [
    "<a id=\"section-two\"></a>\n",
    "\n",
    "<div style=\"color:white;display:fill;border-radius:8px;\n",
    "            background-color:#0E1585;font-size:150%;\n",
    "            font-family:Nexa;letter-spacing:0.5px\">\n",
    "    <p style=\"padding: 8px;color:white;\"><b>3.12 | Predict the data </b></p>\n",
    "</div>"
   ]
  },
  {
   "cell_type": "code",
   "execution_count": 47,
   "id": "33b9964b",
   "metadata": {
    "execution": {
     "iopub.execute_input": "2023-05-03T18:10:23.284987Z",
     "iopub.status.busy": "2023-05-03T18:10:23.284590Z",
     "iopub.status.idle": "2023-05-03T18:10:23.297566Z",
     "shell.execute_reply": "2023-05-03T18:10:23.296342Z"
    },
    "papermill": {
     "duration": 0.041031,
     "end_time": "2023-05-03T18:10:23.299797",
     "exception": false,
     "start_time": "2023-05-03T18:10:23.258766",
     "status": "completed"
    },
    "tags": []
   },
   "outputs": [
    {
     "name": "stdout",
     "output_type": "stream",
     "text": [
      "[152.1538106]\n"
     ]
    },
    {
     "name": "stderr",
     "output_type": "stream",
     "text": [
      "/opt/conda/lib/python3.7/site-packages/sklearn/base.py:451: UserWarning: X does not have valid feature names, but StandardScaler was fitted with feature names\n",
      "  \"X does not have valid feature names, but\"\n"
     ]
    }
   ],
   "source": [
    "# scaler = scaler\n",
    "# model = final_model[save_model\n",
    "# encoded_teams = encoded_teams\n",
    "# columns = list(X.columns)\n",
    "\n",
    "# Define function for making predictions\n",
    "def prediction(batting_team,bowling_team,innings,over,runs,wickets,venue):\n",
    "    # Create an array to hold input features\n",
    "    X_pred = np.zeros(columns.size)\n",
    "    \n",
    "    # Assign input values to corresponding array indices\n",
    "    X_pred[0] = encoded_teams[batting_team]\n",
    "    X_pred[1] = encoded_teams[bowling_team]\n",
    "    X_pred[2] = innings\n",
    "    X_pred[3] = over\n",
    "    X_pred[4] = runs\n",
    "    X_pred[5] = wickets\n",
    "    \n",
    "    venue_pos = np.where(venue == columns)[0][0]\n",
    "    X_pred[venue_pos] = 1\n",
    "    \n",
    "        \n",
    "    \n",
    "    # Scale input features using the loaded scaler\n",
    "    X_pred = scaler.transform([X_pred])\n",
    "    \n",
    "    # Make prediction using the loaded model\n",
    "    prediction = model.predict(X_pred)\n",
    "    \n",
    "    # Return the prediction\n",
    "    return prediction\n",
    "\n",
    "# Call the prediction function with example input values\n",
    "result = prediction(\"Kolkata Knight Riders\", \"Royal Challengers Bangalore\", 1,5.1,20,0,\"Bengaluru\")\n",
    "print(result)\n",
    "\n",
    "\n",
    "\n",
    "\n"
   ]
  },
  {
   "cell_type": "markdown",
   "id": "739e0624",
   "metadata": {
    "papermill": {
     "duration": 0.024815,
     "end_time": "2023-05-03T18:10:23.349467",
     "exception": false,
     "start_time": "2023-05-03T18:10:23.324652",
     "status": "completed"
    },
    "tags": []
   },
   "source": [
    "<a id=\"section-two\"></a>\n",
    "\n",
    "<div style=\"color:white;display:fill;border-radius:8px;\n",
    "            background-color:#0E1585;font-size:150%;\n",
    "            font-family:Nexa;letter-spacing:0.5px\">\n",
    "    <p style=\"padding: 8px;color:white;\"><b>3.13 | Plot Y_pred and Y_test (Scatter Plot of Actual vs. Predicted) </b></p>\n",
    "</div>"
   ]
  },
  {
   "cell_type": "code",
   "execution_count": 48,
   "id": "a1450403",
   "metadata": {
    "execution": {
     "iopub.execute_input": "2023-05-03T18:10:23.400521Z",
     "iopub.status.busy": "2023-05-03T18:10:23.399773Z",
     "iopub.status.idle": "2023-05-03T18:10:24.573882Z",
     "shell.execute_reply": "2023-05-03T18:10:24.572837Z"
    },
    "papermill": {
     "duration": 1.202633,
     "end_time": "2023-05-03T18:10:24.576568",
     "exception": false,
     "start_time": "2023-05-03T18:10:23.373935",
     "status": "completed"
    },
    "tags": []
   },
   "outputs": [
    {
     "data": {
      "image/png": "[encoded data removed]",
      "text/plain": [
       "<Figure size 640x480 with 2 Axes>"
      ]
     },
     "metadata": {},
     "output_type": "display_data"
    }
   ],
   "source": [
    "from matplotlib import cm\n",
    "# Create the scatter plot\n",
    "fig, ax = plt.subplots()\n",
    "sc = ax.scatter(Y_test, Y_test_pred, c=Y_test, cmap=cm.viridis)\n",
    "fig.colorbar(sc)\n",
    "\n",
    "# Set the axis labels\n",
    "ax.set_xlabel('Actual')\n",
    "ax.set_ylabel('Predicted')\n",
    "ax.set_title('Scatter Plot of Actual vs. Predicted')\n",
    "\n",
    "plt.show()"
   ]
  },
  {
   "cell_type": "markdown",
   "id": "7f16ca55",
   "metadata": {
    "papermill": {
     "duration": 0.025911,
     "end_time": "2023-05-03T18:10:24.629110",
     "exception": false,
     "start_time": "2023-05-03T18:10:24.603199",
     "status": "completed"
    },
    "tags": []
   },
   "source": [
    "<a id=\"section-two\"></a>\n",
    "\n",
    "<div style=\"color:white;display:fill;border-radius:8px;\n",
    "            background-color:#0E1585;font-size:150%;\n",
    "            font-family:Nexa;letter-spacing:0.5px\">\n",
    "    <p style=\"padding: 8px;color:white;\"><b>3.14 | Regression Plot of Actual vs. Predicted </b></p>\n",
    "</div>"
   ]
  },
  {
   "cell_type": "code",
   "execution_count": 49,
   "id": "52ca91a7",
   "metadata": {
    "execution": {
     "iopub.execute_input": "2023-05-03T18:10:24.683864Z",
     "iopub.status.busy": "2023-05-03T18:10:24.683369Z",
     "iopub.status.idle": "2023-05-03T18:10:25.006325Z",
     "shell.execute_reply": "2023-05-03T18:10:25.005079Z"
    },
    "papermill": {
     "duration": 0.353732,
     "end_time": "2023-05-03T18:10:25.009240",
     "exception": false,
     "start_time": "2023-05-03T18:10:24.655508",
     "status": "completed"
    },
    "tags": []
   },
   "outputs": [
    {
     "data": {
      "image/png": "[encoded data removed]",
      "text/plain": [
       "<Figure size 640x480 with 1 Axes>"
      ]
     },
     "metadata": {},
     "output_type": "display_data"
    }
   ],
   "source": [
    "# Create the regression plot\n",
    "sns.set_style('whitegrid')\n",
    "sns.regplot(x=Y_test, y=Y_test_pred, ci=None, color='mediumorchid', line_kws={'lw':2})\n",
    "\n",
    "# Set the axis labels and title\n",
    "plt.xlabel('Actual')\n",
    "plt.ylabel('Predicted')\n",
    "plt.title('Regression Plot of Actual vs. Predicted')\n",
    "\n",
    "plt.show()"
   ]
  },
  {
   "cell_type": "code",
   "execution_count": 50,
   "id": "c9c0954b",
   "metadata": {
    "execution": {
     "iopub.execute_input": "2023-05-03T18:10:25.068501Z",
     "iopub.status.busy": "2023-05-03T18:10:25.067348Z",
     "iopub.status.idle": "2023-05-03T18:10:25.714651Z",
     "shell.execute_reply": "2023-05-03T18:10:25.713345Z"
    },
    "papermill": {
     "duration": 0.678737,
     "end_time": "2023-05-03T18:10:25.717113",
     "exception": false,
     "start_time": "2023-05-03T18:10:25.038376",
     "status": "completed"
    },
    "tags": []
   },
   "outputs": [
    {
     "data": {
      "image/png": "[encoded data removed]",
      "text/plain": [
       "<Figure size 640x480 with 1 Axes>"
      ]
     },
     "metadata": {},
     "output_type": "display_data"
    },
    {
     "data": {
      "image/png": "[encoded data removed]",
      "text/plain": [
       "<Figure size 640x480 with 1 Axes>"
      ]
     },
     "metadata": {},
     "output_type": "display_data"
    }
   ],
   "source": [
    "import matplotlib.pyplot as plt\n",
    "import seaborn as sns\n",
    "\n",
    "# Create the regression plot for actual values in blue color\n",
    "sns.set_style('whitegrid')\n",
    "sns.regplot(x=Y_test, y=Y_test, ci=None, color='blue', line_kws={'lw':2})\n",
    "\n",
    "# Set the axis labels and title for actual values plot\n",
    "plt.xlabel('Actual')\n",
    "plt.ylabel('Actual')\n",
    "plt.title('Regression Plot of Actual vs. Actual')\n",
    "\n",
    "plt.show()\n",
    "\n",
    "# Create the regression plot for predicted values in light red color\n",
    "sns.set_style('whitegrid')\n",
    "sns.regplot(x=Y_test, y=Y_test_pred, ci=None, color='lightsalmon', line_kws={'lw':2})\n",
    "\n",
    "# Set the axis labels and title for predicted values plot\n",
    "plt.xlabel('Actual')\n",
    "plt.ylabel('Predicted')\n",
    "plt.title('Regression Plot of Actual vs. Predicted')\n",
    "\n",
    "plt.show()\n"
   ]
  },
  {
   "cell_type": "markdown",
   "id": "77fbb090",
   "metadata": {
    "papermill": {
     "duration": 0.0291,
     "end_time": "2023-05-03T18:10:25.776543",
     "exception": false,
     "start_time": "2023-05-03T18:10:25.747443",
     "status": "completed"
    },
    "tags": []
   },
   "source": [
    "<a id=\"section-two\"></a>\n",
    "\n",
    "<div style=\"color:white;display:fill;border-radius:8px;\n",
    "            background-color:#0E1585;font-size:150%;\n",
    "            font-family:Nexa;letter-spacing:0.5px\">\n",
    "    <p style=\"padding: 8px;color:white;\"><b>3.15 | Difference between Actual and Predicted Values </b></p>\n",
    "</div>"
   ]
  },
  {
   "cell_type": "code",
   "execution_count": 51,
   "id": "87518048",
   "metadata": {
    "execution": {
     "iopub.execute_input": "2023-05-03T18:10:25.839097Z",
     "iopub.status.busy": "2023-05-03T18:10:25.838344Z",
     "iopub.status.idle": "2023-05-03T18:10:25.855037Z",
     "shell.execute_reply": "2023-05-03T18:10:25.853792Z"
    },
    "papermill": {
     "duration": 0.050531,
     "end_time": "2023-05-03T18:10:25.857430",
     "exception": false,
     "start_time": "2023-05-03T18:10:25.806899",
     "status": "completed"
    },
    "tags": []
   },
   "outputs": [
    {
     "data": {
      "text/html": [
       "<div>\n",
       "<style scoped>\n",
       "    .dataframe tbody tr th:only-of-type {\n",
       "        vertical-align: middle;\n",
       "    }\n",
       "\n",
       "    .dataframe tbody tr th {\n",
       "        vertical-align: top;\n",
       "    }\n",
       "\n",
       "    .dataframe thead th {\n",
       "        text-align: right;\n",
       "    }\n",
       "</style>\n",
       "<table border=\"1\" class=\"dataframe\">\n",
       "  <thead>\n",
       "    <tr style=\"text-align: right;\">\n",
       "      <th></th>\n",
       "      <th>Actual Value</th>\n",
       "      <th>Predicted Value</th>\n",
       "      <th>Difference</th>\n",
       "    </tr>\n",
       "  </thead>\n",
       "  <tbody>\n",
       "    <tr>\n",
       "      <th>177814</th>\n",
       "      <td>173</td>\n",
       "      <td>180.301387</td>\n",
       "      <td>-7.301387</td>\n",
       "    </tr>\n",
       "    <tr>\n",
       "      <th>3287</th>\n",
       "      <td>162</td>\n",
       "      <td>158.871139</td>\n",
       "      <td>3.128861</td>\n",
       "    </tr>\n",
       "    <tr>\n",
       "      <th>188612</th>\n",
       "      <td>85</td>\n",
       "      <td>134.372287</td>\n",
       "      <td>-49.372287</td>\n",
       "    </tr>\n",
       "    <tr>\n",
       "      <th>96212</th>\n",
       "      <td>193</td>\n",
       "      <td>168.282713</td>\n",
       "      <td>24.717287</td>\n",
       "    </tr>\n",
       "    <tr>\n",
       "      <th>30637</th>\n",
       "      <td>161</td>\n",
       "      <td>170.830526</td>\n",
       "      <td>-9.830526</td>\n",
       "    </tr>\n",
       "    <tr>\n",
       "      <th>...</th>\n",
       "      <td>...</td>\n",
       "      <td>...</td>\n",
       "      <td>...</td>\n",
       "    </tr>\n",
       "    <tr>\n",
       "      <th>33159</th>\n",
       "      <td>131</td>\n",
       "      <td>150.279840</td>\n",
       "      <td>-19.279840</td>\n",
       "    </tr>\n",
       "    <tr>\n",
       "      <th>191777</th>\n",
       "      <td>153</td>\n",
       "      <td>153.030316</td>\n",
       "      <td>-0.030316</td>\n",
       "    </tr>\n",
       "    <tr>\n",
       "      <th>104833</th>\n",
       "      <td>164</td>\n",
       "      <td>166.707103</td>\n",
       "      <td>-2.707103</td>\n",
       "    </tr>\n",
       "    <tr>\n",
       "      <th>87767</th>\n",
       "      <td>80</td>\n",
       "      <td>134.329447</td>\n",
       "      <td>-54.329447</td>\n",
       "    </tr>\n",
       "    <tr>\n",
       "      <th>107822</th>\n",
       "      <td>119</td>\n",
       "      <td>155.885329</td>\n",
       "      <td>-36.885329</td>\n",
       "    </tr>\n",
       "  </tbody>\n",
       "</table>\n",
       "<p>45191 rows × 3 columns</p>\n",
       "</div>"
      ],
      "text/plain": [
       "        Actual Value  Predicted Value  Difference\n",
       "177814           173       180.301387   -7.301387\n",
       "3287             162       158.871139    3.128861\n",
       "188612            85       134.372287  -49.372287\n",
       "96212            193       168.282713   24.717287\n",
       "30637            161       170.830526   -9.830526\n",
       "...              ...              ...         ...\n",
       "33159            131       150.279840  -19.279840\n",
       "191777           153       153.030316   -0.030316\n",
       "104833           164       166.707103   -2.707103\n",
       "87767             80       134.329447  -54.329447\n",
       "107822           119       155.885329  -36.885329\n",
       "\n",
       "[45191 rows x 3 columns]"
      ]
     },
     "execution_count": 51,
     "metadata": {},
     "output_type": "execute_result"
    }
   ],
   "source": [
    "pred_df=pd.DataFrame({'Actual Value':Y_test,'Predicted Value':Y_test_pred,'Difference':Y_test-Y_test_pred})\n",
    "pred_df"
   ]
  },
  {
   "cell_type": "markdown",
   "id": "ac319c09",
   "metadata": {
    "papermill": {
     "duration": 0.029947,
     "end_time": "2023-05-03T18:10:25.917902",
     "exception": false,
     "start_time": "2023-05-03T18:10:25.887955",
     "status": "completed"
    },
    "tags": []
   },
   "source": [
    "<a id=\"section-4\"></a>\n",
    "\n",
    "<div style=\"color:white;display:fill;border-radius:8px;\n",
    "            background-color:#0E1585;font-size:150%;\n",
    "            font-family:Nexa;letter-spacing:0.5px\">\n",
    "    <p style=\"padding: 8px;color:white;\"><b>4.0 | Dashboard </b></p>\n",
    "</div>"
   ]
  },
  {
   "cell_type": "code",
   "execution_count": 52,
   "id": "bd280b09",
   "metadata": {
    "execution": {
     "iopub.execute_input": "2023-05-03T18:10:25.980529Z",
     "iopub.status.busy": "2023-05-03T18:10:25.980067Z",
     "iopub.status.idle": "2023-05-03T18:10:25.989155Z",
     "shell.execute_reply": "2023-05-03T18:10:25.987075Z"
    },
    "papermill": {
     "duration": 0.044485,
     "end_time": "2023-05-03T18:10:25.992720",
     "exception": false,
     "start_time": "2023-05-03T18:10:25.948235",
     "status": "completed"
    },
    "tags": []
   },
   "outputs": [
    {
     "data": {
      "text/html": [
       "<iframe title=\"IPL(2008-2020) Analysis Report\" width=100% height=\"612\" src=\"https://app.powerbi.com/view?r=eyJrIjoiMGQ3MjQ2MTctMjUwNi00ZmI5LTkwNGItODZkYTUxYzUxOTdmIiwidCI6ImRmODY3OWNkLWE4MGUtNDVkOC05OWFjLWM4M2VkN2ZmOTVhMCJ9\" frameborder=\"0\" allowFullScreen=\"true\"></iframe>\n"
      ],
      "text/plain": [
       "<IPython.core.display.HTML object>"
      ]
     },
     "metadata": {},
     "output_type": "display_data"
    }
   ],
   "source": [
    "%%HTML \n",
    "<iframe title=\"IPL(2008-2020) Analysis Report\" width=100% height=\"612\" src=\"https://app.powerbi.com/view?r=eyJrIjoiMGQ3MjQ2MTctMjUwNi00ZmI5LTkwNGItODZkYTUxYzUxOTdmIiwidCI6ImRmODY3OWNkLWE4MGUtNDVkOC05OWFjLWM4M2VkN2ZmOTVhMCJ9\" frameborder=\"0\" allowFullScreen=\"true\"></iframe>"
   ]
  },
  {
   "cell_type": "markdown",
   "id": "985cf144",
   "metadata": {
    "papermill": {
     "duration": 0.045955,
     "end_time": "2023-05-03T18:10:26.075472",
     "exception": false,
     "start_time": "2023-05-03T18:10:26.029517",
     "status": "completed"
    },
    "tags": []
   },
   "source": [
    "#### Thank you for taking the time to view the notebook. I would be honored if you could share any feedback, suggestions or recommendations for improvement. Your insights will be greatly appreciated. Thank you and have a great day!\n",
    "\n",
    "<center><img src='https://media4.giphy.com/media/M9gbBd9nbDrOTu1Mqx/giphy.gif?cid=790b7611704aa2ca4e403287801480a6c753abf45f3e6242&rid=giphy.gif&ct=s' \n",
    "     height=30px width=160px /></center>"
   ]
  },
  {
   "cell_type": "markdown",
   "id": "a53c4311",
   "metadata": {
    "papermill": {
     "duration": 0.037656,
     "end_time": "2023-05-03T18:10:26.161860",
     "exception": false,
     "start_time": "2023-05-03T18:10:26.124204",
     "status": "completed"
    },
    "tags": []
   },
   "source": [
    "<p><center style=\"color:#159364; font-family:cursive; font-size:20px;\">~~Adrit Pal</center></p>"
   ]
  }
 ],
 "metadata": {
  "kernelspec": {
   "display_name": "Python 3",
   "language": "python",
   "name": "python3"
  },
  "language_info": {
   "codemirror_mode": {
    "name": "ipython",
    "version": 3
   },
   "file_extension": ".py",
   "mimetype": "text/x-python",
   "name": "python",
   "nbconvert_exporter": "python",
   "pygments_lexer": "ipython3",
   "version": "3.7.12"
  },
  "papermill": {
   "default_parameters": {},
   "duration": 335.239697,
   "end_time": "2023-05-03T18:10:27.017041",
   "environment_variables": {},
   "exception": null,
   "input_path": "__notebook__.ipynb",
   "output_path": "__notebook__.ipynb",
   "parameters": {},
   "start_time": "2023-05-03T18:04:51.777344",
   "version": "2.4.0"
  }
 },
 "nbformat": 4,
 "nbformat_minor": 5
}
